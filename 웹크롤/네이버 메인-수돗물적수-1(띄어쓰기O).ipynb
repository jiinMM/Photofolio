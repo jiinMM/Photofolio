{
 "cells": [
  {
   "cell_type": "markdown",
   "metadata": {},
   "source": [
    "#  library"
   ]
  },
  {
   "cell_type": "markdown",
   "metadata": {
    "id": "C2phFhlBOiTM"
   },
   "source": [
    "main() 함수 내 crawler() 함수 수행"
   ]
  },
  {
   "cell_type": "code",
   "execution_count": 1,
   "metadata": {
    "id": "Fc0h3a5dl7t0"
   },
   "outputs": [],
   "source": [
    " # -*- coding: utf-8 -*-\n",
    "from bs4 import BeautifulSoup\n",
    "from datetime import datetime\n",
    "import requests\n",
    "import numpy as np\n",
    "import pandas as pd\n",
    "import re\n",
    "from sklearn.feature_extraction.text import TfidfVectorizer\n",
    "from sklearn.metrics.pairwise import cosine_similarity\n",
    "import matplotlib.pyplot as plt\n",
    "import seaborn as sns"
   ]
  },
  {
   "cell_type": "code",
   "execution_count": 2,
   "metadata": {
    "colab": {
     "base_uri": "https://localhost:8080/",
     "height": 108
    },
    "id": "6q8j9PKxwcV3",
    "outputId": "cabac983-7406-4205-aa69-c6ade3160880"
   },
   "outputs": [
    {
     "data": {
      "text/plain": [
       "\"\\nfname = '한국행정구역분류_2022.1.1.기준.xlsx'\\ndata_region = pd.read_excel(fname, sheet_name = [1], skiprows=2, dtype={'대분류':str, '중분류':str, '소분류':str})\\ndata_region[1].drop('Unnamed: 0', axis=1, inplace=True)\\ndata_citydo_all = data_region[1]['시도'][1:]\\ndata_citydo_unique = data_citydo_all.unique()\\nbooleanArray1 = [not pd.isnull(number) for number in data_citydo_unique]\\ndata_citydo_unique_notna = data_citydo_unique[booleanArray1]\\ndata_citydo_unique_notna\\ndata_citygungu_all = data_region[1]['시군구'][1:]\\ndata_citygungu_unique = data_citygungu_all.unique()\\ndata_citygungu_unique\\n\""
      ]
     },
     "execution_count": 2,
     "metadata": {},
     "output_type": "execute_result"
    }
   ],
   "source": [
    "\"\"\"\n",
    "fname = '한국행정구역분류_2022.1.1.기준.xlsx'\n",
    "data_region = pd.read_excel(fname, sheet_name = [1], skiprows=2, dtype={'대분류':str, '중분류':str, '소분류':str})\n",
    "data_region[1].drop('Unnamed: 0', axis=1, inplace=True)\n",
    "data_citydo_all = data_region[1]['시도'][1:]\n",
    "data_citydo_unique = data_citydo_all.unique()\n",
    "booleanArray1 = [not pd.isnull(number) for number in data_citydo_unique]\n",
    "data_citydo_unique_notna = data_citydo_unique[booleanArray1]\n",
    "data_citydo_unique_notna\n",
    "data_citygungu_all = data_region[1]['시군구'][1:]\n",
    "data_citygungu_unique = data_citygungu_all.unique()\n",
    "data_citygungu_unique\n",
    "\"\"\""
   ]
  },
  {
   "cell_type": "markdown",
   "metadata": {},
   "source": [
    "# 크롤링"
   ]
  },
  {
   "cell_type": "markdown",
   "metadata": {
    "id": "bt_sBMd8TtDb"
   },
   "source": [
    "- 크롤링 해오는 것 : 링크,제목,신문사,내용요약본\n",
    "- 키워드 : 붉은물, 적수, 유충\n",
    "\n",
    "\n",
    "- 내용요약본  -> 정제 작업 필요\n",
    "- 리스트 -> 딕셔너리 -> df -> 엑셀로 저장"
   ]
  },
  {
   "cell_type": "code",
   "execution_count": 2,
   "metadata": {},
   "outputs": [],
   "source": [
    "cos = []"
   ]
  },
  {
   "cell_type": "code",
   "execution_count": 102,
   "metadata": {
    "colab": {
     "base_uri": "https://localhost:8080/"
    },
    "id": "tj46tPSZODDt",
    "outputId": "e404183d-6ac8-476a-e1cf-e069671b1191",
    "scrolled": false
   },
   "outputs": [
    {
     "name": "stdout",
     "output_type": "stream",
     "text": [
      "최대 크롤링할 페이지 수 입력하시오: 1\n",
      "뉴스 검색 방식 입력(관련도순=0  최신순=1  오래된순=2): 0\n",
      "                                       title      source  \\\n",
      "0             붉은 수돗물 피해 주민들 \"정상화 아냐\"…집단소송 예고  연합뉴스언론사 선정   \n",
      "1                        수돗물 적수 이어 이번엔 역한 냄새      파이낸셜뉴스   \n",
      "2              포항시, 수돗물 여과 실험 및 상수도관 이토작업 실시       NSP통신   \n",
      "3           인천 '붉은 수돗물' 피해보상 착수…12~30일 신청 접수         뉴스1   \n",
      "4               '적수 사태 진상규명' 인천시의회 특위 행정사무조사        경인일보   \n",
      "5          인천 '붉은 수돗물' 피해보상…사흘간 2333명 4억원 접수        경향신문   \n",
      "6               인천시의회 특위, 붉은 수돗물 조사 호통치기에 그쳐        중부일보   \n",
      "7  인천시의회, '붉은 수돗물' 특위...탁도계 업체 \"탁도계 고장 사실아냐\"        경인방송   \n",
      "8                        인천시, 수돗물 적수 피해보상 착수      파이낸셜뉴스   \n",
      "9        인천 붉은 수돗물 피해주민들 “피해보상 청구서가 서약서냐” 발끈        한국경제   \n",
      "\n",
      "                                            contents  \\\n",
      "0  주민대책위, 인천시 발표 보상 계획 철회·재논의 요구 '인천 붉은 수돗물'(적수) ...   \n",
      "1  적수 수돗물로 피해를 줬던 인천지역 수돗물에서 이번에는 흙냄새와 곰팡이 냄새가 발생...   \n",
      "2  막여과 시험이란 수돗물 1리터를 공극 0.45㎛ 여과지에 걸러서 여과된 상태(변색 ...   \n",
      "3  인천시가 ‘붉은 수돗물’(적수) 피해보상 절차에 착수한다. 시는 오는 12~30일 ...   \n",
      "4  13일 오전 인천시의회에서 열린 '수돗물 적수 사고 행정사무조사'에서 전·현직 상수...   \n",
      "5  인천 ‘붉은 수돗물’ 사태로 인한 피해보상 접수가 사흘만에 4000여 건이 넘은 것...   \n",
      "6  윤상순기자 인천 수돗물 적수 사태와 관련해 인천시의회 특별위원회 소속 의원들이 전 ...   \n",
      "7  (앵커)환경부가 인천 '붉은 수돗물' 사태의 원인으로 꼽은 '탁도계 고장'이 사실이...   \n",
      "8  인천시는 수돗물 적수(붉은 물) 발생 2개월 만에 주민들에게 피해 보상을 진행한다....   \n",
      "9  시는 지난 5일 적수사태 정상화를 선언하면서 서구·영종도·강화 등 피해지역의 상하수...   \n",
      "\n",
      "                                                link  \n",
      "0       http://yna.kr/AKR20190811025500065?did=1195m  \n",
      "1      http://www.fnnews.com/news/201908131312234449  \n",
      "2  http://www.nspna.com/news/?mode=view&newsid=37...  \n",
      "3                  http://news1.kr/articles/?3691442  \n",
      "4  http://www.kyeongin.com/main/view.php?key=2019...  \n",
      "5  http://news.khan.co.kr/kh_news/khan_art_view.h...  \n",
      "6  http://www.joongboo.com/news/articleView.html?...  \n",
      "7                      http://www.ifm.kr/news/262814  \n",
      "8      http://www.fnnews.com/news/201908090913374170  \n",
      "9  https://www.hankyung.com/society/article/20190...  \n"
     ]
    }
   ],
   "source": [
    "flag_save = 0\n",
    "\n",
    "maxpage = input(\"최대 크롤링할 페이지 수 입력하시오: \")  # 1\n",
    "sort = input(\"뉴스 검색 방식 입력(관련도순=0  최신순=1  오래된순=2): \") # 0\n",
    "\n",
    "s_date = '2019.08.08' # 2019.05.10  2019.05.20  2019.05.30  2019.06.09  2019.06.19  2019.06.29  2019.07.09  2019.07.19  2019.07.29  2019.08.08\n",
    "e_date = '2019.08.17' # 2019.05.19  2019.05.29  2019.06.08  2019.06.18  2019.06.28  2019.07.08  2019.07.18  2019.07.28  2019.08.07  2019.08.17\n",
    "\n",
    "#각 크롤링 결과 저장하기 위한 리스트 선언\n",
    "title_text=[]\n",
    "link_text=[]\n",
    "source_text=[]\n",
    "contents_text=[]\n",
    "result={}\n",
    "\n",
    "#엑셀로 저장하기 위한 변수\n",
    "#RESULT_PATH ='C:/'  #결과 저장할 경로\n",
    "now = datetime.now() #파일이름 현 시간으로 저장하기\n",
    "\n",
    "#내용 정제화 함수\n",
    "def contents_cleansing(contents):\n",
    "    first_cleansing_contents = re.sub('<dl>.*?</a> </div> </dd> <dd>', '',str(contents)).strip()  #앞에 필요없는 부분 제거\n",
    "    second_cleansing_contents = re.sub('<ul class=\"relation_lst\">.*?</dd>', '', first_cleansing_contents).strip()#뒤에 필요없는 부분 제거 (새끼 기사)\n",
    "    third_cleansing_contents = re.sub('<.+?>', '', second_cleansing_contents).strip()\n",
    "    contents_text.append(third_cleansing_contents)\n",
    "    #print(contents_text)\n",
    "\n",
    "#크롤링 시작\n",
    "list_region = ['인천']\n",
    "\n",
    "for region in list_region:\n",
    "  list_keyword = ['수돗물 적수']\n",
    "  for keyword in list_keyword:\n",
    "    query = region +' ' + keyword\n",
    "    s_from = s_date.replace(\".\",\"\")\n",
    "    e_to = e_date.replace(\".\",\"\")\n",
    "    page = 1\n",
    "    maxpage_t =(int(maxpage)-1)*10+1   # 11= 2페이지 21=3페이지 31=4페이지  ...81=9페이지 , 91=10페이지, 101=11페이지\n",
    "    while page <= maxpage_t:\n",
    "        url = \"https://search.naver.com/search.naver?where=news&query=\" + query + \"&sort=\"+sort+\"&ds=\" + s_date + \"&de=\" + e_date + \"&nso=so%3Ar%2Cp%3Afrom\" + s_from + \"to\" + e_to + \"%2Ca%3A&start=\" + str(page)\n",
    "        response = requests.get(url)\n",
    "        html = response.text\n",
    "\n",
    "        #뷰티풀소프의 인자값 지정\n",
    "        soup = BeautifulSoup(html, 'html.parser')\n",
    "\n",
    "        #<a>태그에서 제목과 링크주소 (a 태그 중 class 명이 news_tit인 것)\n",
    "        atags = soup.find_all('a', 'news_tit')\n",
    "        for atag in atags:\n",
    "            title = atag.get('title')\n",
    "            title_text.append(title)     #제목\n",
    "            link_text.append(atag['href'])   #링크주소\n",
    "\n",
    "        #신문사 추출 (a 태그 중 class 명이 info press인 것)\n",
    "        source_lists = soup.find_all('a', 'info press')\n",
    "        for source_list in source_lists:\n",
    "            source_text.append(source_list.text)    #신문사\n",
    "\n",
    "        #본문요약본 (a 태그 중 class 명이 api_txt_lines dsc_txt_wrap인 것)\n",
    "        contents_lists = soup.find_all('a','api_txt_lines dsc_txt_wrap')\n",
    "        for contents_list in contents_lists:\n",
    "            contents_cleansing(contents_list) #본문요약 정제화\n",
    "\n",
    "        #모든 리스트 딕셔너리형태로 저장\n",
    "        result= {\"title\":title_text ,  \"source\" : source_text ,\"contents\": contents_text ,\"link\":link_text }\n",
    "        df = pd.DataFrame(result)  #df로 변환\n",
    "        page += 10\n",
    "        print(df)\n",
    "\n",
    "if flag_save == 1:\n",
    "    # 새로 만들 파일이름 지정\n",
    "    outputFileName = '%s-%s-%s %s시 %s분 %s초 merging' % (now.year, now.month, now.day, now.hour, now.minute, now.second)\n",
    "    df.to_excel(outputFileName+'.xlsx',sheet_name='sheet1')\n",
    "    #df.to_csv(outputFileName+'.csv', mode='w')"
   ]
  },
  {
   "cell_type": "code",
   "execution_count": 103,
   "metadata": {
    "colab": {
     "base_uri": "https://localhost:8080/"
    },
    "id": "9wiQodirYGf_",
    "outputId": "72a943ec-2528-45aa-b7d8-ea9affaf9d45"
   },
   "outputs": [
    {
     "name": "stderr",
     "output_type": "stream",
     "text": [
      "C:\\Users\\qpflw\\AppData\\Local\\Temp/ipykernel_25732/123471369.py:3: FutureWarning: The series.append method is deprecated and will be removed from pandas in a future version. Use pandas.concat instead.\n",
      "  df_tfidf_base = df['contents'].append(dfNew,ignore_index=True)\n"
     ]
    },
    {
     "data": {
      "text/plain": [
       "0     주민대책위, 인천시 발표 보상 계획 철회·재논의 요구 '인천 붉은 수돗물'(적수) ...\n",
       "1     적수 수돗물로 피해를 줬던 인천지역 수돗물에서 이번에는 흙냄새와 곰팡이 냄새가 발생...\n",
       "2     막여과 시험이란 수돗물 1리터를 공극 0.45㎛ 여과지에 걸러서 여과된 상태(변색 ...\n",
       "3     인천시가 ‘붉은 수돗물’(적수) 피해보상 절차에 착수한다. 시는 오는 12~30일 ...\n",
       "4     13일 오전 인천시의회에서 열린 '수돗물 적수 사고 행정사무조사'에서 전·현직 상수...\n",
       "5     인천 ‘붉은 수돗물’ 사태로 인한 피해보상 접수가 사흘만에 4000여 건이 넘은 것...\n",
       "6     윤상순기자 인천 수돗물 적수 사태와 관련해 인천시의회 특별위원회 소속 의원들이 전 ...\n",
       "7     (앵커)환경부가 인천 '붉은 수돗물' 사태의 원인으로 꼽은 '탁도계 고장'이 사실이...\n",
       "8     인천시는 수돗물 적수(붉은 물) 발생 2개월 만에 주민들에게 피해 보상을 진행한다....\n",
       "9     시는 지난 5일 적수사태 정상화를 선언하면서 서구·영종도·강화 등 피해지역의 상하수...\n",
       "10                                            인천 수돗물 적수\n",
       "dtype: object"
      ]
     },
     "execution_count": 103,
     "metadata": {},
     "output_type": "execute_result"
    }
   ],
   "source": [
    "list_search = ' '.join(list_region) + ' ' + ' '.join(list_keyword)\n",
    "dfNew = pd.Series(list_search)\n",
    "df_tfidf_base = df['contents'].append(dfNew,ignore_index=True)\n",
    "\n",
    "corpus = df_tfidf_base\n",
    "corpus"
   ]
  },
  {
   "cell_type": "code",
   "execution_count": 104,
   "metadata": {},
   "outputs": [
    {
     "data": {
      "text/html": [
       "<div>\n",
       "<style scoped>\n",
       "    .dataframe tbody tr th:only-of-type {\n",
       "        vertical-align: middle;\n",
       "    }\n",
       "\n",
       "    .dataframe tbody tr th {\n",
       "        vertical-align: top;\n",
       "    }\n",
       "\n",
       "    .dataframe thead th {\n",
       "        text-align: right;\n",
       "    }\n",
       "</style>\n",
       "<table border=\"1\" class=\"dataframe\">\n",
       "  <thead>\n",
       "    <tr style=\"text-align: right;\">\n",
       "      <th></th>\n",
       "      <th>title</th>\n",
       "      <th>source</th>\n",
       "      <th>contents</th>\n",
       "      <th>link</th>\n",
       "    </tr>\n",
       "  </thead>\n",
       "  <tbody>\n",
       "    <tr>\n",
       "      <th>0</th>\n",
       "      <td>붉은 수돗물 피해 주민들 \"정상화 아냐\"…집단소송 예고</td>\n",
       "      <td>연합뉴스언론사 선정</td>\n",
       "      <td>주민대책위, 인천시 발표 보상 계획 철회·재논의 요구 '인천 붉은 수돗물'(적수) ...</td>\n",
       "      <td>http://yna.kr/AKR20190811025500065?did=1195m</td>\n",
       "    </tr>\n",
       "    <tr>\n",
       "      <th>1</th>\n",
       "      <td>수돗물 적수 이어 이번엔 역한 냄새</td>\n",
       "      <td>파이낸셜뉴스</td>\n",
       "      <td>적수 수돗물로 피해를 줬던 인천지역 수돗물에서 이번에는 흙냄새와 곰팡이 냄새가 발생...</td>\n",
       "      <td>http://www.fnnews.com/news/201908131312234449</td>\n",
       "    </tr>\n",
       "    <tr>\n",
       "      <th>2</th>\n",
       "      <td>포항시, 수돗물 여과 실험 및 상수도관 이토작업 실시</td>\n",
       "      <td>NSP통신</td>\n",
       "      <td>막여과 시험이란 수돗물 1리터를 공극 0.45㎛ 여과지에 걸러서 여과된 상태(변색 ...</td>\n",
       "      <td>http://www.nspna.com/news/?mode=view&amp;newsid=37...</td>\n",
       "    </tr>\n",
       "    <tr>\n",
       "      <th>3</th>\n",
       "      <td>인천 '붉은 수돗물' 피해보상 착수…12~30일 신청 접수</td>\n",
       "      <td>뉴스1</td>\n",
       "      <td>인천시가 ‘붉은 수돗물’(적수) 피해보상 절차에 착수한다. 시는 오는 12~30일 ...</td>\n",
       "      <td>http://news1.kr/articles/?3691442</td>\n",
       "    </tr>\n",
       "    <tr>\n",
       "      <th>4</th>\n",
       "      <td>'적수 사태 진상규명' 인천시의회 특위 행정사무조사</td>\n",
       "      <td>경인일보</td>\n",
       "      <td>13일 오전 인천시의회에서 열린 '수돗물 적수 사고 행정사무조사'에서 전·현직 상수...</td>\n",
       "      <td>http://www.kyeongin.com/main/view.php?key=2019...</td>\n",
       "    </tr>\n",
       "    <tr>\n",
       "      <th>5</th>\n",
       "      <td>인천 '붉은 수돗물' 피해보상…사흘간 2333명 4억원 접수</td>\n",
       "      <td>경향신문</td>\n",
       "      <td>인천 ‘붉은 수돗물’ 사태로 인한 피해보상 접수가 사흘만에 4000여 건이 넘은 것...</td>\n",
       "      <td>http://news.khan.co.kr/kh_news/khan_art_view.h...</td>\n",
       "    </tr>\n",
       "    <tr>\n",
       "      <th>6</th>\n",
       "      <td>인천시의회 특위, 붉은 수돗물 조사 호통치기에 그쳐</td>\n",
       "      <td>중부일보</td>\n",
       "      <td>윤상순기자 인천 수돗물 적수 사태와 관련해 인천시의회 특별위원회 소속 의원들이 전 ...</td>\n",
       "      <td>http://www.joongboo.com/news/articleView.html?...</td>\n",
       "    </tr>\n",
       "    <tr>\n",
       "      <th>7</th>\n",
       "      <td>인천시의회, '붉은 수돗물' 특위...탁도계 업체 \"탁도계 고장 사실아냐\"</td>\n",
       "      <td>경인방송</td>\n",
       "      <td>(앵커)환경부가 인천 '붉은 수돗물' 사태의 원인으로 꼽은 '탁도계 고장'이 사실이...</td>\n",
       "      <td>http://www.ifm.kr/news/262814</td>\n",
       "    </tr>\n",
       "    <tr>\n",
       "      <th>8</th>\n",
       "      <td>인천시, 수돗물 적수 피해보상 착수</td>\n",
       "      <td>파이낸셜뉴스</td>\n",
       "      <td>인천시는 수돗물 적수(붉은 물) 발생 2개월 만에 주민들에게 피해 보상을 진행한다....</td>\n",
       "      <td>http://www.fnnews.com/news/201908090913374170</td>\n",
       "    </tr>\n",
       "    <tr>\n",
       "      <th>9</th>\n",
       "      <td>인천 붉은 수돗물 피해주민들 “피해보상 청구서가 서약서냐” 발끈</td>\n",
       "      <td>한국경제</td>\n",
       "      <td>시는 지난 5일 적수사태 정상화를 선언하면서 서구·영종도·강화 등 피해지역의 상하수...</td>\n",
       "      <td>https://www.hankyung.com/society/article/20190...</td>\n",
       "    </tr>\n",
       "  </tbody>\n",
       "</table>\n",
       "</div>"
      ],
      "text/plain": [
       "                                       title      source  \\\n",
       "0             붉은 수돗물 피해 주민들 \"정상화 아냐\"…집단소송 예고  연합뉴스언론사 선정   \n",
       "1                        수돗물 적수 이어 이번엔 역한 냄새      파이낸셜뉴스   \n",
       "2              포항시, 수돗물 여과 실험 및 상수도관 이토작업 실시       NSP통신   \n",
       "3           인천 '붉은 수돗물' 피해보상 착수…12~30일 신청 접수         뉴스1   \n",
       "4               '적수 사태 진상규명' 인천시의회 특위 행정사무조사        경인일보   \n",
       "5          인천 '붉은 수돗물' 피해보상…사흘간 2333명 4억원 접수        경향신문   \n",
       "6               인천시의회 특위, 붉은 수돗물 조사 호통치기에 그쳐        중부일보   \n",
       "7  인천시의회, '붉은 수돗물' 특위...탁도계 업체 \"탁도계 고장 사실아냐\"        경인방송   \n",
       "8                        인천시, 수돗물 적수 피해보상 착수      파이낸셜뉴스   \n",
       "9        인천 붉은 수돗물 피해주민들 “피해보상 청구서가 서약서냐” 발끈        한국경제   \n",
       "\n",
       "                                            contents  \\\n",
       "0  주민대책위, 인천시 발표 보상 계획 철회·재논의 요구 '인천 붉은 수돗물'(적수) ...   \n",
       "1  적수 수돗물로 피해를 줬던 인천지역 수돗물에서 이번에는 흙냄새와 곰팡이 냄새가 발생...   \n",
       "2  막여과 시험이란 수돗물 1리터를 공극 0.45㎛ 여과지에 걸러서 여과된 상태(변색 ...   \n",
       "3  인천시가 ‘붉은 수돗물’(적수) 피해보상 절차에 착수한다. 시는 오는 12~30일 ...   \n",
       "4  13일 오전 인천시의회에서 열린 '수돗물 적수 사고 행정사무조사'에서 전·현직 상수...   \n",
       "5  인천 ‘붉은 수돗물’ 사태로 인한 피해보상 접수가 사흘만에 4000여 건이 넘은 것...   \n",
       "6  윤상순기자 인천 수돗물 적수 사태와 관련해 인천시의회 특별위원회 소속 의원들이 전 ...   \n",
       "7  (앵커)환경부가 인천 '붉은 수돗물' 사태의 원인으로 꼽은 '탁도계 고장'이 사실이...   \n",
       "8  인천시는 수돗물 적수(붉은 물) 발생 2개월 만에 주민들에게 피해 보상을 진행한다....   \n",
       "9  시는 지난 5일 적수사태 정상화를 선언하면서 서구·영종도·강화 등 피해지역의 상하수...   \n",
       "\n",
       "                                                link  \n",
       "0       http://yna.kr/AKR20190811025500065?did=1195m  \n",
       "1      http://www.fnnews.com/news/201908131312234449  \n",
       "2  http://www.nspna.com/news/?mode=view&newsid=37...  \n",
       "3                  http://news1.kr/articles/?3691442  \n",
       "4  http://www.kyeongin.com/main/view.php?key=2019...  \n",
       "5  http://news.khan.co.kr/kh_news/khan_art_view.h...  \n",
       "6  http://www.joongboo.com/news/articleView.html?...  \n",
       "7                      http://www.ifm.kr/news/262814  \n",
       "8      http://www.fnnews.com/news/201908090913374170  \n",
       "9  https://www.hankyung.com/society/article/20190...  "
      ]
     },
     "execution_count": 104,
     "metadata": {},
     "output_type": "execute_result"
    }
   ],
   "source": [
    "df"
   ]
  },
  {
   "cell_type": "markdown",
   "metadata": {},
   "source": [
    "# 벡터화"
   ]
  },
  {
   "cell_type": "code",
   "execution_count": 105,
   "metadata": {
    "colab": {
     "base_uri": "https://localhost:8080/"
    },
    "id": "NTvVKRyCUYvg",
    "outputId": "a22b06c9-2cf5-4563-f96e-b6eb9a665e0f"
   },
   "outputs": [],
   "source": [
    "tfidfv = TfidfVectorizer().fit(corpus)\n",
    "tfidfv_array = tfidfv.transform(corpus).toarray()"
   ]
  },
  {
   "cell_type": "code",
   "execution_count": 106,
   "metadata": {},
   "outputs": [
    {
     "data": {
      "text/plain": [
       "array([[0.13730786, 0.        , 0.        , ..., 0.        , 0.        ,\n",
       "        0.        ],\n",
       "       [0.        , 0.        , 0.        , ..., 0.        , 0.        ,\n",
       "        0.17280971],\n",
       "       [0.        , 0.        , 0.        , ..., 0.        , 0.        ,\n",
       "        0.        ],\n",
       "       ...,\n",
       "       [0.1384918 , 0.        , 0.        , ..., 0.        , 0.16202351,\n",
       "        0.        ],\n",
       "       [0.        , 0.        , 0.        , ..., 0.        , 0.        ,\n",
       "        0.        ],\n",
       "       [0.        , 0.        , 0.        , ..., 0.        , 0.        ,\n",
       "        0.        ]])"
      ]
     },
     "execution_count": 106,
     "metadata": {},
     "output_type": "execute_result"
    }
   ],
   "source": [
    "tfidfv_array"
   ]
  },
  {
   "cell_type": "markdown",
   "metadata": {},
   "source": [
    "# 유사도"
   ]
  },
  {
   "cell_type": "code",
   "execution_count": 107,
   "metadata": {
    "colab": {
     "base_uri": "https://localhost:8080/",
     "height": 394
    },
    "id": "vLUUILCkYAZg",
    "outputId": "8346b1d5-7233-4618-be38-f3936ee6253e"
   },
   "outputs": [
    {
     "data": {
      "text/html": [
       "<div>\n",
       "<style scoped>\n",
       "    .dataframe tbody tr th:only-of-type {\n",
       "        vertical-align: middle;\n",
       "    }\n",
       "\n",
       "    .dataframe tbody tr th {\n",
       "        vertical-align: top;\n",
       "    }\n",
       "\n",
       "    .dataframe thead th {\n",
       "        text-align: right;\n",
       "    }\n",
       "</style>\n",
       "<table border=\"1\" class=\"dataframe\">\n",
       "  <thead>\n",
       "    <tr style=\"text-align: right;\">\n",
       "      <th></th>\n",
       "      <th>0</th>\n",
       "      <th>1</th>\n",
       "      <th>2</th>\n",
       "      <th>3</th>\n",
       "      <th>4</th>\n",
       "      <th>5</th>\n",
       "      <th>6</th>\n",
       "      <th>7</th>\n",
       "      <th>8</th>\n",
       "      <th>9</th>\n",
       "      <th>10</th>\n",
       "    </tr>\n",
       "  </thead>\n",
       "  <tbody>\n",
       "    <tr>\n",
       "      <th>0</th>\n",
       "      <td>1.000000</td>\n",
       "      <td>0.032696</td>\n",
       "      <td>0.031015</td>\n",
       "      <td>0.128891</td>\n",
       "      <td>0.074173</td>\n",
       "      <td>0.051727</td>\n",
       "      <td>0.051988</td>\n",
       "      <td>0.038579</td>\n",
       "      <td>0.052414</td>\n",
       "      <td>0.048201</td>\n",
       "      <td>0.255986</td>\n",
       "    </tr>\n",
       "    <tr>\n",
       "      <th>1</th>\n",
       "      <td>0.032696</td>\n",
       "      <td>1.000000</td>\n",
       "      <td>0.018902</td>\n",
       "      <td>0.015903</td>\n",
       "      <td>0.038992</td>\n",
       "      <td>0.080603</td>\n",
       "      <td>0.020494</td>\n",
       "      <td>0.031958</td>\n",
       "      <td>0.015320</td>\n",
       "      <td>0.021905</td>\n",
       "      <td>0.038900</td>\n",
       "    </tr>\n",
       "    <tr>\n",
       "      <th>2</th>\n",
       "      <td>0.031015</td>\n",
       "      <td>0.018902</td>\n",
       "      <td>1.000000</td>\n",
       "      <td>0.009654</td>\n",
       "      <td>0.036255</td>\n",
       "      <td>0.031353</td>\n",
       "      <td>0.025514</td>\n",
       "      <td>0.008605</td>\n",
       "      <td>0.009300</td>\n",
       "      <td>0.004562</td>\n",
       "      <td>0.072042</td>\n",
       "    </tr>\n",
       "    <tr>\n",
       "      <th>3</th>\n",
       "      <td>0.128891</td>\n",
       "      <td>0.015903</td>\n",
       "      <td>0.009654</td>\n",
       "      <td>1.000000</td>\n",
       "      <td>0.021329</td>\n",
       "      <td>0.069121</td>\n",
       "      <td>0.010467</td>\n",
       "      <td>0.015320</td>\n",
       "      <td>0.096563</td>\n",
       "      <td>0.082602</td>\n",
       "      <td>0.069859</td>\n",
       "    </tr>\n",
       "    <tr>\n",
       "      <th>4</th>\n",
       "      <td>0.074173</td>\n",
       "      <td>0.038992</td>\n",
       "      <td>0.036255</td>\n",
       "      <td>0.021329</td>\n",
       "      <td>1.000000</td>\n",
       "      <td>0.021595</td>\n",
       "      <td>0.039309</td>\n",
       "      <td>0.149771</td>\n",
       "      <td>0.020547</td>\n",
       "      <td>0.016640</td>\n",
       "      <td>0.104355</td>\n",
       "    </tr>\n",
       "    <tr>\n",
       "      <th>5</th>\n",
       "      <td>0.051727</td>\n",
       "      <td>0.080603</td>\n",
       "      <td>0.031353</td>\n",
       "      <td>0.069121</td>\n",
       "      <td>0.021595</td>\n",
       "      <td>1.000000</td>\n",
       "      <td>0.020330</td>\n",
       "      <td>0.023979</td>\n",
       "      <td>0.106906</td>\n",
       "      <td>0.064116</td>\n",
       "      <td>0.135682</td>\n",
       "    </tr>\n",
       "    <tr>\n",
       "      <th>6</th>\n",
       "      <td>0.051988</td>\n",
       "      <td>0.020494</td>\n",
       "      <td>0.025514</td>\n",
       "      <td>0.010467</td>\n",
       "      <td>0.039309</td>\n",
       "      <td>0.020330</td>\n",
       "      <td>1.000000</td>\n",
       "      <td>0.041164</td>\n",
       "      <td>0.010084</td>\n",
       "      <td>0.038698</td>\n",
       "      <td>0.149835</td>\n",
       "    </tr>\n",
       "    <tr>\n",
       "      <th>7</th>\n",
       "      <td>0.038579</td>\n",
       "      <td>0.031958</td>\n",
       "      <td>0.008605</td>\n",
       "      <td>0.015320</td>\n",
       "      <td>0.149771</td>\n",
       "      <td>0.023979</td>\n",
       "      <td>0.041164</td>\n",
       "      <td>1.000000</td>\n",
       "      <td>0.014758</td>\n",
       "      <td>0.024430</td>\n",
       "      <td>0.124681</td>\n",
       "    </tr>\n",
       "    <tr>\n",
       "      <th>8</th>\n",
       "      <td>0.052414</td>\n",
       "      <td>0.015320</td>\n",
       "      <td>0.009300</td>\n",
       "      <td>0.096563</td>\n",
       "      <td>0.020547</td>\n",
       "      <td>0.106906</td>\n",
       "      <td>0.010084</td>\n",
       "      <td>0.014758</td>\n",
       "      <td>1.000000</td>\n",
       "      <td>0.068346</td>\n",
       "      <td>0.067300</td>\n",
       "    </tr>\n",
       "    <tr>\n",
       "      <th>9</th>\n",
       "      <td>0.048201</td>\n",
       "      <td>0.021905</td>\n",
       "      <td>0.004562</td>\n",
       "      <td>0.082602</td>\n",
       "      <td>0.016640</td>\n",
       "      <td>0.064116</td>\n",
       "      <td>0.038698</td>\n",
       "      <td>0.024430</td>\n",
       "      <td>0.068346</td>\n",
       "      <td>1.000000</td>\n",
       "      <td>0.099181</td>\n",
       "    </tr>\n",
       "    <tr>\n",
       "      <th>10</th>\n",
       "      <td>0.255986</td>\n",
       "      <td>0.038900</td>\n",
       "      <td>0.072042</td>\n",
       "      <td>0.069859</td>\n",
       "      <td>0.104355</td>\n",
       "      <td>0.135682</td>\n",
       "      <td>0.149835</td>\n",
       "      <td>0.124681</td>\n",
       "      <td>0.067300</td>\n",
       "      <td>0.099181</td>\n",
       "      <td>1.000000</td>\n",
       "    </tr>\n",
       "  </tbody>\n",
       "</table>\n",
       "</div>"
      ],
      "text/plain": [
       "          0         1         2         3         4         5         6   \\\n",
       "0   1.000000  0.032696  0.031015  0.128891  0.074173  0.051727  0.051988   \n",
       "1   0.032696  1.000000  0.018902  0.015903  0.038992  0.080603  0.020494   \n",
       "2   0.031015  0.018902  1.000000  0.009654  0.036255  0.031353  0.025514   \n",
       "3   0.128891  0.015903  0.009654  1.000000  0.021329  0.069121  0.010467   \n",
       "4   0.074173  0.038992  0.036255  0.021329  1.000000  0.021595  0.039309   \n",
       "5   0.051727  0.080603  0.031353  0.069121  0.021595  1.000000  0.020330   \n",
       "6   0.051988  0.020494  0.025514  0.010467  0.039309  0.020330  1.000000   \n",
       "7   0.038579  0.031958  0.008605  0.015320  0.149771  0.023979  0.041164   \n",
       "8   0.052414  0.015320  0.009300  0.096563  0.020547  0.106906  0.010084   \n",
       "9   0.048201  0.021905  0.004562  0.082602  0.016640  0.064116  0.038698   \n",
       "10  0.255986  0.038900  0.072042  0.069859  0.104355  0.135682  0.149835   \n",
       "\n",
       "          7         8         9         10  \n",
       "0   0.038579  0.052414  0.048201  0.255986  \n",
       "1   0.031958  0.015320  0.021905  0.038900  \n",
       "2   0.008605  0.009300  0.004562  0.072042  \n",
       "3   0.015320  0.096563  0.082602  0.069859  \n",
       "4   0.149771  0.020547  0.016640  0.104355  \n",
       "5   0.023979  0.106906  0.064116  0.135682  \n",
       "6   0.041164  0.010084  0.038698  0.149835  \n",
       "7   1.000000  0.014758  0.024430  0.124681  \n",
       "8   0.014758  1.000000  0.068346  0.067300  \n",
       "9   0.024430  0.068346  1.000000  0.099181  \n",
       "10  0.124681  0.067300  0.099181  1.000000  "
      ]
     },
     "execution_count": 107,
     "metadata": {},
     "output_type": "execute_result"
    }
   ],
   "source": [
    "cos_sim_df = pd.DataFrame(cosine_similarity(tfidfv_array, tfidfv_array)) \n",
    "cos_sim_df"
   ]
  },
  {
   "cell_type": "code",
   "execution_count": 108,
   "metadata": {
    "id": "PVOB2V_XdbbK"
   },
   "outputs": [
    {
     "data": {
      "text/plain": [
       "10"
      ]
     },
     "execution_count": 108,
     "metadata": {},
     "output_type": "execute_result"
    }
   ],
   "source": [
    "len_contents = len(cos_sim_df)-1\n",
    "len_contents"
   ]
  },
  {
   "cell_type": "code",
   "execution_count": 109,
   "metadata": {
    "colab": {
     "base_uri": "https://localhost:8080/"
    },
    "id": "NOR13wJLZoVy",
    "outputId": "3eebebd7-ae87-4b64-bd71-6734d8bb5a20"
   },
   "outputs": [
    {
     "data": {
      "text/plain": [
       "10    1.000000\n",
       "0     0.255986\n",
       "6     0.149835\n",
       "5     0.135682\n",
       "7     0.124681\n",
       "4     0.104355\n",
       "9     0.099181\n",
       "2     0.072042\n",
       "3     0.069859\n",
       "8     0.067300\n",
       "1     0.038900\n",
       "Name: 10, dtype: float64"
      ]
     },
     "execution_count": 109,
     "metadata": {},
     "output_type": "execute_result"
    }
   ],
   "source": [
    "cos_sim_df_sorted = cos_sim_df.iloc[len_contents].sort_values(ascending=False)\n",
    "cos_sim_df_sorted"
   ]
  },
  {
   "cell_type": "code",
   "execution_count": 110,
   "metadata": {
    "colab": {
     "base_uri": "https://localhost:8080/"
    },
    "id": "hIWwe6Jnbb_Z",
    "outputId": "d582346b-7482-4d64-b4e4-b5a951ff0794"
   },
   "outputs": [
    {
     "name": "stdout",
     "output_type": "stream",
     "text": [
      "11.178209073132699\n"
     ]
    }
   ],
   "source": [
    "cos_sim_df_sorted_others = cos_sim_df_sorted[1:]\n",
    "cos_sim_df_sorted_others\n",
    "\n",
    "cos_sim_df_sorted_others_sum = cos_sim_df_sorted_others.sum()/10 * 100 # percent 지표\n",
    "print(cos_sim_df_sorted_others_sum)"
   ]
  },
  {
   "cell_type": "code",
   "execution_count": 111,
   "metadata": {
    "scrolled": true
   },
   "outputs": [
    {
     "data": {
      "text/plain": [
       "[1.4837785221113187,\n",
       " 0.0,\n",
       " 11.213253557843924,\n",
       " 14.035262552279157,\n",
       " 14.955135372132744,\n",
       " 8.873416609048094,\n",
       " 16.97882122179945,\n",
       " 13.398653563120416,\n",
       " 6.66644595899971,\n",
       " 11.178209073132699]"
      ]
     },
     "execution_count": 111,
     "metadata": {},
     "output_type": "execute_result"
    }
   ],
   "source": [
    "cos.append(cos_sim_df_sorted_others_sum)\n",
    "cos"
   ]
  },
  {
   "cell_type": "code",
   "execution_count": 112,
   "metadata": {},
   "outputs": [
    {
     "data": {
      "text/html": [
       "<div>\n",
       "<style scoped>\n",
       "    .dataframe tbody tr th:only-of-type {\n",
       "        vertical-align: middle;\n",
       "    }\n",
       "\n",
       "    .dataframe tbody tr th {\n",
       "        vertical-align: top;\n",
       "    }\n",
       "\n",
       "    .dataframe thead th {\n",
       "        text-align: right;\n",
       "    }\n",
       "</style>\n",
       "<table border=\"1\" class=\"dataframe\">\n",
       "  <thead>\n",
       "    <tr style=\"text-align: right;\">\n",
       "      <th></th>\n",
       "      <th>0</th>\n",
       "    </tr>\n",
       "  </thead>\n",
       "  <tbody>\n",
       "    <tr>\n",
       "      <th>0</th>\n",
       "      <td>1.483779</td>\n",
       "    </tr>\n",
       "    <tr>\n",
       "      <th>1</th>\n",
       "      <td>0.000000</td>\n",
       "    </tr>\n",
       "    <tr>\n",
       "      <th>2</th>\n",
       "      <td>11.213254</td>\n",
       "    </tr>\n",
       "    <tr>\n",
       "      <th>3</th>\n",
       "      <td>14.035263</td>\n",
       "    </tr>\n",
       "    <tr>\n",
       "      <th>4</th>\n",
       "      <td>14.955135</td>\n",
       "    </tr>\n",
       "    <tr>\n",
       "      <th>5</th>\n",
       "      <td>8.873417</td>\n",
       "    </tr>\n",
       "    <tr>\n",
       "      <th>6</th>\n",
       "      <td>16.978821</td>\n",
       "    </tr>\n",
       "    <tr>\n",
       "      <th>7</th>\n",
       "      <td>13.398654</td>\n",
       "    </tr>\n",
       "    <tr>\n",
       "      <th>8</th>\n",
       "      <td>6.666446</td>\n",
       "    </tr>\n",
       "    <tr>\n",
       "      <th>9</th>\n",
       "      <td>11.178209</td>\n",
       "    </tr>\n",
       "  </tbody>\n",
       "</table>\n",
       "</div>"
      ],
      "text/plain": [
       "           0\n",
       "0   1.483779\n",
       "1   0.000000\n",
       "2  11.213254\n",
       "3  14.035263\n",
       "4  14.955135\n",
       "5   8.873417\n",
       "6  16.978821\n",
       "7  13.398654\n",
       "8   6.666446\n",
       "9  11.178209"
      ]
     },
     "execution_count": 112,
     "metadata": {},
     "output_type": "execute_result"
    }
   ],
   "source": [
    "cos_df = pd.DataFrame(cos)\n",
    "cos_df"
   ]
  },
  {
   "cell_type": "markdown",
   "metadata": {},
   "source": [
    "# 시각화"
   ]
  },
  {
   "cell_type": "code",
   "execution_count": 113,
   "metadata": {},
   "outputs": [],
   "source": [
    "plt.rc(\"font\", family=\"Malgun Gothic\") # window"
   ]
  },
  {
   "cell_type": "code",
   "execution_count": 114,
   "metadata": {},
   "outputs": [
    {
     "data": {
      "text/plain": [
       "Text(0.5, 1.0, '네이버 코사인 유사도(%)')"
      ]
     },
     "execution_count": 114,
     "metadata": {},
     "output_type": "execute_result"
    },
    {
     "data": {
      "image/png": "[encoded data removed]",
      "text/plain": [
       "<Figure size 432x288 with 1 Axes>"
      ]
     },
     "metadata": {
      "needs_background": "light"
     },
     "output_type": "display_data"
    }
   ],
   "source": [
    "df1=pd.DataFrame({'day':('19.05.10','19.05.20','19.05.30','19.06.09','19.06.19','19.06.29', '19.07.09', '19.07.19', '19.07.29', '19.08.08'),'결과':cos})\n",
    "p = sns.barplot(data = df1, x ='day',y='결과')\n",
    "p.set_xticklabels(p.get_xticklabels(), rotation=45, horizontalalignment='right')\n",
    "p.set_title(\"네이버 코사인 유사도(%)\")"
   ]
  }
 ],
 "metadata": {
  "colab": {
   "collapsed_sections": [],
   "name": "py-cr-naver-v4-tfidfscore-v2-rank-fin",
   "provenance": []
  },
  "kernelspec": {
   "display_name": "Python 3 (ipykernel)",
   "language": "python",
   "name": "python3"
  },
  "language_info": {
   "codemirror_mode": {
    "name": "ipython",
    "version": 3
   },
   "file_extension": ".py",
   "mimetype": "text/x-python",
   "name": "python",
   "nbconvert_exporter": "python",
   "pygments_lexer": "ipython3",
   "version": "3.9.7"
  },
  "toc": {
   "base_numbering": 1,
   "nav_menu": {},
   "number_sections": true,
   "sideBar": true,
   "skip_h1_title": false,
   "title_cell": "Table of Contents",
   "title_sidebar": "Contents",
   "toc_cell": false,
   "toc_position": {},
   "toc_section_display": true,
   "toc_window_display": false
  }
 },
 "nbformat": 4,
 "nbformat_minor": 1
}
