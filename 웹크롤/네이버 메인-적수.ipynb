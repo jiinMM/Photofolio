{
 "cells": [
  {
   "cell_type": "markdown",
   "metadata": {},
   "source": [
    "#  library"
   ]
  },
  {
   "cell_type": "markdown",
   "metadata": {
    "id": "C2phFhlBOiTM"
   },
   "source": [
    "main() 함수 내 crawler() 함수 수행"
   ]
  },
  {
   "cell_type": "code",
   "execution_count": 1,
   "metadata": {
    "id": "Fc0h3a5dl7t0"
   },
   "outputs": [],
   "source": [
    " # -*- coding: utf-8 -*-\n",
    "from bs4 import BeautifulSoup\n",
    "from datetime import datetime\n",
    "import requests\n",
    "import numpy as np\n",
    "import pandas as pd\n",
    "import re\n",
    "from sklearn.feature_extraction.text import TfidfVectorizer\n",
    "from sklearn.metrics.pairwise import cosine_similarity\n",
    "import matplotlib.pyplot as plt\n",
    "import seaborn as sns"
   ]
  },
  {
   "cell_type": "code",
   "execution_count": 2,
   "metadata": {
    "colab": {
     "base_uri": "https://localhost:8080/",
     "height": 108
    },
    "id": "6q8j9PKxwcV3",
    "outputId": "cabac983-7406-4205-aa69-c6ade3160880"
   },
   "outputs": [
    {
     "data": {
      "text/plain": [
       "\"\\nfname = '한국행정구역분류_2022.1.1.기준.xlsx'\\ndata_region = pd.read_excel(fname, sheet_name = [1], skiprows=2, dtype={'대분류':str, '중분류':str, '소분류':str})\\ndata_region[1].drop('Unnamed: 0', axis=1, inplace=True)\\ndata_citydo_all = data_region[1]['시도'][1:]\\ndata_citydo_unique = data_citydo_all.unique()\\nbooleanArray1 = [not pd.isnull(number) for number in data_citydo_unique]\\ndata_citydo_unique_notna = data_citydo_unique[booleanArray1]\\ndata_citydo_unique_notna\\ndata_citygungu_all = data_region[1]['시군구'][1:]\\ndata_citygungu_unique = data_citygungu_all.unique()\\ndata_citygungu_unique\\n\""
      ]
     },
     "execution_count": 2,
     "metadata": {},
     "output_type": "execute_result"
    }
   ],
   "source": [
    "\"\"\"\n",
    "fname = '한국행정구역분류_2022.1.1.기준.xlsx'\n",
    "data_region = pd.read_excel(fname, sheet_name = [1], skiprows=2, dtype={'대분류':str, '중분류':str, '소분류':str})\n",
    "data_region[1].drop('Unnamed: 0', axis=1, inplace=True)\n",
    "data_citydo_all = data_region[1]['시도'][1:]\n",
    "data_citydo_unique = data_citydo_all.unique()\n",
    "booleanArray1 = [not pd.isnull(number) for number in data_citydo_unique]\n",
    "data_citydo_unique_notna = data_citydo_unique[booleanArray1]\n",
    "data_citydo_unique_notna\n",
    "data_citygungu_all = data_region[1]['시군구'][1:]\n",
    "data_citygungu_unique = data_citygungu_all.unique()\n",
    "data_citygungu_unique\n",
    "\"\"\""
   ]
  },
  {
   "cell_type": "markdown",
   "metadata": {},
   "source": [
    "# 크롤링"
   ]
  },
  {
   "cell_type": "markdown",
   "metadata": {
    "id": "bt_sBMd8TtDb"
   },
   "source": [
    "- 크롤링 해오는 것 : 링크,제목,신문사,내용요약본\n",
    "- 키워드 : 붉은물, 적수, 유충\n",
    "\n",
    "\n",
    "- 내용요약본  -> 정제 작업 필요\n",
    "- 리스트 -> 딕셔너리 -> df -> 엑셀로 저장"
   ]
  },
  {
   "cell_type": "code",
   "execution_count": 2,
   "metadata": {},
   "outputs": [],
   "source": [
    "cos = []"
   ]
  },
  {
   "cell_type": "code",
   "execution_count": 103,
   "metadata": {
    "colab": {
     "base_uri": "https://localhost:8080/"
    },
    "id": "tj46tPSZODDt",
    "outputId": "e404183d-6ac8-476a-e1cf-e069671b1191",
    "scrolled": false
   },
   "outputs": [
    {
     "name": "stdout",
     "output_type": "stream",
     "text": [
      "최대 크롤링할 페이지 수 입력하시오: 1\n",
      "뉴스 검색 방식 입력(관련도순=0  최신순=1  오래된순=2): 0\n",
      "                                        title source  \\\n",
      "0           '연애의 맛2' 시청률 4.7% 기록…동시간대 적수없는 1위  TV리포트   \n",
      "1                 붉은 수돗물 피해 인천 서구 주민들 집단소송 예고   노컷뉴스   \n",
      "2                '적수 사태 진상규명' 인천시의회 특위 행정사무조사   경인일보   \n",
      "3               인천시, 수돗물 원수 냄새 물질 증가…\"끓여 마셔야\"    OBS   \n",
      "4               ‘붉은 수돗물’ 피해보상 12∼30일 접수 [인천시]   경향신문   \n",
      "5          '적수피해보상' 현장 접수처 182곳… 인천시 행정공백 불가피   경인일보   \n",
      "6                인천시의회 특위, 붉은 수돗물 조사 호통치기에 그쳐   중부일보   \n",
      "7  인천시, 부동산 시장 침체로 취득세 감소로 올 세수 1천246억원 세수 구멍   경기일보   \n",
      "8           인천 '붉은 수돗물' 피해보상…사흘간 2333명 4억원 접수   경향신문   \n",
      "9                   인천 공촌정수장 탁도계 업체 \"고장 안 났다\"  인천투데이   \n",
      "\n",
      "                                            contents  \\\n",
      "0  지난 15일 방송된 '연애의 맛2' 12회는 닐슨코리아 기준 전국 시청률 4.7%를...   \n",
      "1  현재 적수 피해지역인 인천 서구 연희·검암·경서·검단· 지역의 불량배관은 47%다....   \n",
      "2  13일 오전 인천시의회에서 열린 '수돗물 적수 사고 행정사무조사'에서 전·현직 상수...   \n",
      "3  앞서 적수 사태를 겪은 인천 서구와 강화군, 영종도에 수돗물을 공급하는 공촌정수장의...   \n",
      "4  인천시는 지난 5월30일부터 지난 4일까지 적수 사태로 피해를 인천 서구와 중구 영...   \n",
      "5  인천시가 19일부터 시청 직원 600여 명을 투입해 붉은 수돗물 사태 피해 보상 현...   \n",
      "6  윤상순기자 인천 수돗물 적수 사태와 관련해 인천시의회 특별위원회 소속 의원들이 전 ...   \n",
      "7  '붉은 수돗물(적수)' 민원 해결을 위해 상수도사업특별회계 자본 예비비 600억원을...   \n",
      "8  인천시는 지난 5월30일 발생한 적수 사태로 피해를 본 주민들을 대상으로 지난 12...   \n",
      "9  인천 수돗물 적수(붉은 물) 사태의 원인 중 하나인 서구 공촌정수장의 탁도계 고장이...   \n",
      "\n",
      "                                                link  \n",
      "0                 https://www.tvreport.co.kr/2003056  \n",
      "1           https://www.nocutnews.co.kr/news/5196447  \n",
      "2  http://www.kyeongin.com/main/view.php?key=2019...  \n",
      "3  http://www.obsnews.co.kr/news/articleView.html...  \n",
      "4  http://news.khan.co.kr/kh_news/khan_art_view.h...  \n",
      "5  http://www.kyeongin.com/main/view.php?key=2019...  \n",
      "6  http://www.joongboo.com/news/articleView.html?...  \n",
      "7  http://www.kyeonggi.com/news/articleView.html?...  \n",
      "8  http://news.khan.co.kr/kh_news/khan_art_view.h...  \n",
      "9  http://www.incheontoday.com/news/articleView.h...  \n"
     ]
    }
   ],
   "source": [
    "flag_save = 0\n",
    "\n",
    "maxpage = input(\"최대 크롤링할 페이지 수 입력하시오: \")  # 1\n",
    "sort = input(\"뉴스 검색 방식 입력(관련도순=0  최신순=1  오래된순=2): \") # 0\n",
    "\n",
    "s_date = '2019.08.08' # 2019.05.10  2019.05.20  2019.05.30  2019.06.09  2019.06.19  2019.06.29  2019.07.09  2019.07.19  2019.07.29  2019.08.08\n",
    "e_date = '2019.08.17' # 2019.05.19  2019.05.29  2019.06.08  2019.06.18  2019.06.28  2019.07.08  2019.07.18  2019.07.28  2019.08.07  2019.08.17\n",
    "\n",
    "#각 크롤링 결과 저장하기 위한 리스트 선언\n",
    "title_text=[]\n",
    "link_text=[]\n",
    "source_text=[]\n",
    "contents_text=[]\n",
    "result={}\n",
    "\n",
    "#엑셀로 저장하기 위한 변수\n",
    "#RESULT_PATH ='C:/'  #결과 저장할 경로\n",
    "now = datetime.now() #파일이름 현 시간으로 저장하기\n",
    "\n",
    "#내용 정제화 함수\n",
    "def contents_cleansing(contents):\n",
    "    first_cleansing_contents = re.sub('<dl>.*?</a> </div> </dd> <dd>', '',str(contents)).strip()  #앞에 필요없는 부분 제거\n",
    "    second_cleansing_contents = re.sub('<ul class=\"relation_lst\">.*?</dd>', '', first_cleansing_contents).strip()#뒤에 필요없는 부분 제거 (새끼 기사)\n",
    "    third_cleansing_contents = re.sub('<.+?>', '', second_cleansing_contents).strip()\n",
    "    contents_text.append(third_cleansing_contents)\n",
    "    #print(contents_text)\n",
    "\n",
    "#크롤링 시작\n",
    "list_region = ['인천']\n",
    "\n",
    "for region in list_region:\n",
    "  list_keyword = ['적수']\n",
    "  for keyword in list_keyword:\n",
    "    query = region +' ' + keyword\n",
    "    s_from = s_date.replace(\".\",\"\")\n",
    "    e_to = e_date.replace(\".\",\"\")\n",
    "    page = 1\n",
    "    maxpage_t =(int(maxpage)-1)*10+1   # 11= 2페이지 21=3페이지 31=4페이지  ...81=9페이지 , 91=10페이지, 101=11페이지\n",
    "    while page <= maxpage_t:\n",
    "        url = \"https://search.naver.com/search.naver?where=news&query=\" + query + \"&sort=\"+sort+\"&ds=\" + s_date + \"&de=\" + e_date + \"&nso=so%3Ar%2Cp%3Afrom\" + s_from + \"to\" + e_to + \"%2Ca%3A&start=\" + str(page)\n",
    "        response = requests.get(url)\n",
    "        html = response.text\n",
    "\n",
    "        #뷰티풀소프의 인자값 지정\n",
    "        soup = BeautifulSoup(html, 'html.parser')\n",
    "\n",
    "        #<a>태그에서 제목과 링크주소 (a 태그 중 class 명이 news_tit인 것)\n",
    "        atags = soup.find_all('a', 'news_tit')\n",
    "        for atag in atags:\n",
    "            title = atag.get('title')\n",
    "            title_text.append(title)     #제목\n",
    "            link_text.append(atag['href'])   #링크주소\n",
    "\n",
    "        #신문사 추출 (a 태그 중 class 명이 info press인 것)\n",
    "        source_lists = soup.find_all('a', 'info press')\n",
    "        for source_list in source_lists:\n",
    "            source_text.append(source_list.text)    #신문사\n",
    "\n",
    "        #본문요약본 (a 태그 중 class 명이 api_txt_lines dsc_txt_wrap인 것)\n",
    "        contents_lists = soup.find_all('a','api_txt_lines dsc_txt_wrap')\n",
    "        for contents_list in contents_lists:\n",
    "            contents_cleansing(contents_list) #본문요약 정제화\n",
    "\n",
    "        #모든 리스트 딕셔너리형태로 저장\n",
    "        result= {\"title\":title_text ,  \"source\" : source_text ,\"contents\": contents_text ,\"link\":link_text }\n",
    "        df = pd.DataFrame(result)  #df로 변환\n",
    "        page += 10\n",
    "        print(df)\n",
    "\n",
    "if flag_save == 1:\n",
    "    # 새로 만들 파일이름 지정\n",
    "    outputFileName = '%s-%s-%s %s시 %s분 %s초 merging' % (now.year, now.month, now.day, now.hour, now.minute, now.second)\n",
    "    df.to_excel(outputFileName+'.xlsx',sheet_name='sheet1')\n",
    "    #df.to_csv(outputFileName+'.csv', mode='w')"
   ]
  },
  {
   "cell_type": "code",
   "execution_count": 104,
   "metadata": {
    "colab": {
     "base_uri": "https://localhost:8080/"
    },
    "id": "9wiQodirYGf_",
    "outputId": "72a943ec-2528-45aa-b7d8-ea9affaf9d45"
   },
   "outputs": [
    {
     "name": "stderr",
     "output_type": "stream",
     "text": [
      "C:\\Users\\qpflw\\AppData\\Local\\Temp/ipykernel_11936/123471369.py:3: FutureWarning: The series.append method is deprecated and will be removed from pandas in a future version. Use pandas.concat instead.\n",
      "  df_tfidf_base = df['contents'].append(dfNew,ignore_index=True)\n"
     ]
    },
    {
     "data": {
      "text/plain": [
       "0     지난 15일 방송된 '연애의 맛2' 12회는 닐슨코리아 기준 전국 시청률 4.7%를...\n",
       "1     현재 적수 피해지역인 인천 서구 연희·검암·경서·검단· 지역의 불량배관은 47%다....\n",
       "2     13일 오전 인천시의회에서 열린 '수돗물 적수 사고 행정사무조사'에서 전·현직 상수...\n",
       "3     앞서 적수 사태를 겪은 인천 서구와 강화군, 영종도에 수돗물을 공급하는 공촌정수장의...\n",
       "4     인천시는 지난 5월30일부터 지난 4일까지 적수 사태로 피해를 인천 서구와 중구 영...\n",
       "5     인천시가 19일부터 시청 직원 600여 명을 투입해 붉은 수돗물 사태 피해 보상 현...\n",
       "6     윤상순기자 인천 수돗물 적수 사태와 관련해 인천시의회 특별위원회 소속 의원들이 전 ...\n",
       "7     '붉은 수돗물(적수)' 민원 해결을 위해 상수도사업특별회계 자본 예비비 600억원을...\n",
       "8     인천시는 지난 5월30일 발생한 적수 사태로 피해를 본 주민들을 대상으로 지난 12...\n",
       "9     인천 수돗물 적수(붉은 물) 사태의 원인 중 하나인 서구 공촌정수장의 탁도계 고장이...\n",
       "10                                                인천 적수\n",
       "dtype: object"
      ]
     },
     "execution_count": 104,
     "metadata": {},
     "output_type": "execute_result"
    }
   ],
   "source": [
    "list_search = ' '.join(list_region) + ' ' + ' '.join(list_keyword)\n",
    "dfNew = pd.Series(list_search)\n",
    "df_tfidf_base = df['contents'].append(dfNew,ignore_index=True)\n",
    "\n",
    "corpus = df_tfidf_base\n",
    "corpus"
   ]
  },
  {
   "cell_type": "code",
   "execution_count": 105,
   "metadata": {},
   "outputs": [
    {
     "data": {
      "text/html": [
       "<div>\n",
       "<style scoped>\n",
       "    .dataframe tbody tr th:only-of-type {\n",
       "        vertical-align: middle;\n",
       "    }\n",
       "\n",
       "    .dataframe tbody tr th {\n",
       "        vertical-align: top;\n",
       "    }\n",
       "\n",
       "    .dataframe thead th {\n",
       "        text-align: right;\n",
       "    }\n",
       "</style>\n",
       "<table border=\"1\" class=\"dataframe\">\n",
       "  <thead>\n",
       "    <tr style=\"text-align: right;\">\n",
       "      <th></th>\n",
       "      <th>title</th>\n",
       "      <th>source</th>\n",
       "      <th>contents</th>\n",
       "      <th>link</th>\n",
       "    </tr>\n",
       "  </thead>\n",
       "  <tbody>\n",
       "    <tr>\n",
       "      <th>0</th>\n",
       "      <td>'연애의 맛2' 시청률 4.7% 기록…동시간대 적수없는 1위</td>\n",
       "      <td>TV리포트</td>\n",
       "      <td>지난 15일 방송된 '연애의 맛2' 12회는 닐슨코리아 기준 전국 시청률 4.7%를...</td>\n",
       "      <td>https://www.tvreport.co.kr/2003056</td>\n",
       "    </tr>\n",
       "    <tr>\n",
       "      <th>1</th>\n",
       "      <td>붉은 수돗물 피해 인천 서구 주민들 집단소송 예고</td>\n",
       "      <td>노컷뉴스</td>\n",
       "      <td>현재 적수 피해지역인 인천 서구 연희·검암·경서·검단· 지역의 불량배관은 47%다....</td>\n",
       "      <td>https://www.nocutnews.co.kr/news/5196447</td>\n",
       "    </tr>\n",
       "    <tr>\n",
       "      <th>2</th>\n",
       "      <td>'적수 사태 진상규명' 인천시의회 특위 행정사무조사</td>\n",
       "      <td>경인일보</td>\n",
       "      <td>13일 오전 인천시의회에서 열린 '수돗물 적수 사고 행정사무조사'에서 전·현직 상수...</td>\n",
       "      <td>http://www.kyeongin.com/main/view.php?key=2019...</td>\n",
       "    </tr>\n",
       "    <tr>\n",
       "      <th>3</th>\n",
       "      <td>인천시, 수돗물 원수 냄새 물질 증가…\"끓여 마셔야\"</td>\n",
       "      <td>OBS</td>\n",
       "      <td>앞서 적수 사태를 겪은 인천 서구와 강화군, 영종도에 수돗물을 공급하는 공촌정수장의...</td>\n",
       "      <td>http://www.obsnews.co.kr/news/articleView.html...</td>\n",
       "    </tr>\n",
       "    <tr>\n",
       "      <th>4</th>\n",
       "      <td>‘붉은 수돗물’ 피해보상 12∼30일 접수 [인천시]</td>\n",
       "      <td>경향신문</td>\n",
       "      <td>인천시는 지난 5월30일부터 지난 4일까지 적수 사태로 피해를 인천 서구와 중구 영...</td>\n",
       "      <td>http://news.khan.co.kr/kh_news/khan_art_view.h...</td>\n",
       "    </tr>\n",
       "    <tr>\n",
       "      <th>5</th>\n",
       "      <td>'적수피해보상' 현장 접수처 182곳… 인천시 행정공백 불가피</td>\n",
       "      <td>경인일보</td>\n",
       "      <td>인천시가 19일부터 시청 직원 600여 명을 투입해 붉은 수돗물 사태 피해 보상 현...</td>\n",
       "      <td>http://www.kyeongin.com/main/view.php?key=2019...</td>\n",
       "    </tr>\n",
       "    <tr>\n",
       "      <th>6</th>\n",
       "      <td>인천시의회 특위, 붉은 수돗물 조사 호통치기에 그쳐</td>\n",
       "      <td>중부일보</td>\n",
       "      <td>윤상순기자 인천 수돗물 적수 사태와 관련해 인천시의회 특별위원회 소속 의원들이 전 ...</td>\n",
       "      <td>http://www.joongboo.com/news/articleView.html?...</td>\n",
       "    </tr>\n",
       "    <tr>\n",
       "      <th>7</th>\n",
       "      <td>인천시, 부동산 시장 침체로 취득세 감소로 올 세수 1천246억원 세수 구멍</td>\n",
       "      <td>경기일보</td>\n",
       "      <td>'붉은 수돗물(적수)' 민원 해결을 위해 상수도사업특별회계 자본 예비비 600억원을...</td>\n",
       "      <td>http://www.kyeonggi.com/news/articleView.html?...</td>\n",
       "    </tr>\n",
       "    <tr>\n",
       "      <th>8</th>\n",
       "      <td>인천 '붉은 수돗물' 피해보상…사흘간 2333명 4억원 접수</td>\n",
       "      <td>경향신문</td>\n",
       "      <td>인천시는 지난 5월30일 발생한 적수 사태로 피해를 본 주민들을 대상으로 지난 12...</td>\n",
       "      <td>http://news.khan.co.kr/kh_news/khan_art_view.h...</td>\n",
       "    </tr>\n",
       "    <tr>\n",
       "      <th>9</th>\n",
       "      <td>인천 공촌정수장 탁도계 업체 \"고장 안 났다\"</td>\n",
       "      <td>인천투데이</td>\n",
       "      <td>인천 수돗물 적수(붉은 물) 사태의 원인 중 하나인 서구 공촌정수장의 탁도계 고장이...</td>\n",
       "      <td>http://www.incheontoday.com/news/articleView.h...</td>\n",
       "    </tr>\n",
       "  </tbody>\n",
       "</table>\n",
       "</div>"
      ],
      "text/plain": [
       "                                        title source  \\\n",
       "0           '연애의 맛2' 시청률 4.7% 기록…동시간대 적수없는 1위  TV리포트   \n",
       "1                 붉은 수돗물 피해 인천 서구 주민들 집단소송 예고   노컷뉴스   \n",
       "2                '적수 사태 진상규명' 인천시의회 특위 행정사무조사   경인일보   \n",
       "3               인천시, 수돗물 원수 냄새 물질 증가…\"끓여 마셔야\"    OBS   \n",
       "4               ‘붉은 수돗물’ 피해보상 12∼30일 접수 [인천시]   경향신문   \n",
       "5          '적수피해보상' 현장 접수처 182곳… 인천시 행정공백 불가피   경인일보   \n",
       "6                인천시의회 특위, 붉은 수돗물 조사 호통치기에 그쳐   중부일보   \n",
       "7  인천시, 부동산 시장 침체로 취득세 감소로 올 세수 1천246억원 세수 구멍   경기일보   \n",
       "8           인천 '붉은 수돗물' 피해보상…사흘간 2333명 4억원 접수   경향신문   \n",
       "9                   인천 공촌정수장 탁도계 업체 \"고장 안 났다\"  인천투데이   \n",
       "\n",
       "                                            contents  \\\n",
       "0  지난 15일 방송된 '연애의 맛2' 12회는 닐슨코리아 기준 전국 시청률 4.7%를...   \n",
       "1  현재 적수 피해지역인 인천 서구 연희·검암·경서·검단· 지역의 불량배관은 47%다....   \n",
       "2  13일 오전 인천시의회에서 열린 '수돗물 적수 사고 행정사무조사'에서 전·현직 상수...   \n",
       "3  앞서 적수 사태를 겪은 인천 서구와 강화군, 영종도에 수돗물을 공급하는 공촌정수장의...   \n",
       "4  인천시는 지난 5월30일부터 지난 4일까지 적수 사태로 피해를 인천 서구와 중구 영...   \n",
       "5  인천시가 19일부터 시청 직원 600여 명을 투입해 붉은 수돗물 사태 피해 보상 현...   \n",
       "6  윤상순기자 인천 수돗물 적수 사태와 관련해 인천시의회 특별위원회 소속 의원들이 전 ...   \n",
       "7  '붉은 수돗물(적수)' 민원 해결을 위해 상수도사업특별회계 자본 예비비 600억원을...   \n",
       "8  인천시는 지난 5월30일 발생한 적수 사태로 피해를 본 주민들을 대상으로 지난 12...   \n",
       "9  인천 수돗물 적수(붉은 물) 사태의 원인 중 하나인 서구 공촌정수장의 탁도계 고장이...   \n",
       "\n",
       "                                                link  \n",
       "0                 https://www.tvreport.co.kr/2003056  \n",
       "1           https://www.nocutnews.co.kr/news/5196447  \n",
       "2  http://www.kyeongin.com/main/view.php?key=2019...  \n",
       "3  http://www.obsnews.co.kr/news/articleView.html...  \n",
       "4  http://news.khan.co.kr/kh_news/khan_art_view.h...  \n",
       "5  http://www.kyeongin.com/main/view.php?key=2019...  \n",
       "6  http://www.joongboo.com/news/articleView.html?...  \n",
       "7  http://www.kyeonggi.com/news/articleView.html?...  \n",
       "8  http://news.khan.co.kr/kh_news/khan_art_view.h...  \n",
       "9  http://www.incheontoday.com/news/articleView.h...  "
      ]
     },
     "execution_count": 105,
     "metadata": {},
     "output_type": "execute_result"
    }
   ],
   "source": [
    "df"
   ]
  },
  {
   "cell_type": "markdown",
   "metadata": {},
   "source": [
    "# 벡터화"
   ]
  },
  {
   "cell_type": "code",
   "execution_count": 106,
   "metadata": {
    "colab": {
     "base_uri": "https://localhost:8080/"
    },
    "id": "NTvVKRyCUYvg",
    "outputId": "a22b06c9-2cf5-4563-f96e-b6eb9a665e0f"
   },
   "outputs": [],
   "source": [
    "tfidfv = TfidfVectorizer().fit(corpus)\n",
    "tfidfv_array = tfidfv.transform(corpus).toarray()"
   ]
  },
  {
   "cell_type": "code",
   "execution_count": 107,
   "metadata": {},
   "outputs": [
    {
     "data": {
      "text/plain": [
       "array([[0.        , 0.        , 0.16625633, ..., 0.        , 0.        ,\n",
       "        0.        ],\n",
       "       [0.        , 0.        , 0.        , ..., 0.        , 0.        ,\n",
       "        0.        ],\n",
       "       [0.        , 0.        , 0.        , ..., 0.        , 0.        ,\n",
       "        0.        ],\n",
       "       ...,\n",
       "       [0.        , 0.1443119 , 0.        , ..., 0.        , 0.        ,\n",
       "        0.        ],\n",
       "       [0.        , 0.        , 0.        , ..., 0.30682468, 0.        ,\n",
       "        0.        ],\n",
       "       [0.        , 0.        , 0.        , ..., 0.        , 0.        ,\n",
       "        0.        ]])"
      ]
     },
     "execution_count": 107,
     "metadata": {},
     "output_type": "execute_result"
    }
   ],
   "source": [
    "tfidfv_array"
   ]
  },
  {
   "cell_type": "markdown",
   "metadata": {},
   "source": [
    "# 유사도"
   ]
  },
  {
   "cell_type": "code",
   "execution_count": 108,
   "metadata": {
    "colab": {
     "base_uri": "https://localhost:8080/",
     "height": 394
    },
    "id": "vLUUILCkYAZg",
    "outputId": "8346b1d5-7233-4618-be38-f3936ee6253e"
   },
   "outputs": [
    {
     "data": {
      "text/html": [
       "<div>\n",
       "<style scoped>\n",
       "    .dataframe tbody tr th:only-of-type {\n",
       "        vertical-align: middle;\n",
       "    }\n",
       "\n",
       "    .dataframe tbody tr th {\n",
       "        vertical-align: top;\n",
       "    }\n",
       "\n",
       "    .dataframe thead th {\n",
       "        text-align: right;\n",
       "    }\n",
       "</style>\n",
       "<table border=\"1\" class=\"dataframe\">\n",
       "  <thead>\n",
       "    <tr style=\"text-align: right;\">\n",
       "      <th></th>\n",
       "      <th>0</th>\n",
       "      <th>1</th>\n",
       "      <th>2</th>\n",
       "      <th>3</th>\n",
       "      <th>4</th>\n",
       "      <th>5</th>\n",
       "      <th>6</th>\n",
       "      <th>7</th>\n",
       "      <th>8</th>\n",
       "      <th>9</th>\n",
       "      <th>10</th>\n",
       "    </tr>\n",
       "  </thead>\n",
       "  <tbody>\n",
       "    <tr>\n",
       "      <th>0</th>\n",
       "      <td>1.000000</td>\n",
       "      <td>0.004134</td>\n",
       "      <td>0.004138</td>\n",
       "      <td>0.004650</td>\n",
       "      <td>0.035348</td>\n",
       "      <td>0.000000</td>\n",
       "      <td>0.004658</td>\n",
       "      <td>0.024575</td>\n",
       "      <td>0.056486</td>\n",
       "      <td>0.003867</td>\n",
       "      <td>0.037346</td>\n",
       "    </tr>\n",
       "    <tr>\n",
       "      <th>1</th>\n",
       "      <td>0.004134</td>\n",
       "      <td>1.000000</td>\n",
       "      <td>0.004082</td>\n",
       "      <td>0.035890</td>\n",
       "      <td>0.012392</td>\n",
       "      <td>0.027444</td>\n",
       "      <td>0.035948</td>\n",
       "      <td>0.004166</td>\n",
       "      <td>0.004198</td>\n",
       "      <td>0.039896</td>\n",
       "      <td>0.110689</td>\n",
       "    </tr>\n",
       "    <tr>\n",
       "      <th>2</th>\n",
       "      <td>0.004138</td>\n",
       "      <td>0.004082</td>\n",
       "      <td>1.000000</td>\n",
       "      <td>0.004592</td>\n",
       "      <td>0.004129</td>\n",
       "      <td>0.085177</td>\n",
       "      <td>0.049083</td>\n",
       "      <td>0.077013</td>\n",
       "      <td>0.004202</td>\n",
       "      <td>0.059312</td>\n",
       "      <td>0.036879</td>\n",
       "    </tr>\n",
       "    <tr>\n",
       "      <th>3</th>\n",
       "      <td>0.004650</td>\n",
       "      <td>0.035890</td>\n",
       "      <td>0.004592</td>\n",
       "      <td>1.000000</td>\n",
       "      <td>0.058659</td>\n",
       "      <td>0.000000</td>\n",
       "      <td>0.015529</td>\n",
       "      <td>0.004686</td>\n",
       "      <td>0.004722</td>\n",
       "      <td>0.033572</td>\n",
       "      <td>0.124518</td>\n",
       "    </tr>\n",
       "    <tr>\n",
       "      <th>4</th>\n",
       "      <td>0.035348</td>\n",
       "      <td>0.012392</td>\n",
       "      <td>0.004129</td>\n",
       "      <td>0.058659</td>\n",
       "      <td>1.000000</td>\n",
       "      <td>0.117476</td>\n",
       "      <td>0.013962</td>\n",
       "      <td>0.004213</td>\n",
       "      <td>0.237789</td>\n",
       "      <td>0.011591</td>\n",
       "      <td>0.111950</td>\n",
       "    </tr>\n",
       "    <tr>\n",
       "      <th>5</th>\n",
       "      <td>0.000000</td>\n",
       "      <td>0.027444</td>\n",
       "      <td>0.085177</td>\n",
       "      <td>0.000000</td>\n",
       "      <td>0.117476</td>\n",
       "      <td>1.000000</td>\n",
       "      <td>0.020127</td>\n",
       "      <td>0.040639</td>\n",
       "      <td>0.060641</td>\n",
       "      <td>0.096220</td>\n",
       "      <td>0.000000</td>\n",
       "    </tr>\n",
       "    <tr>\n",
       "      <th>6</th>\n",
       "      <td>0.004658</td>\n",
       "      <td>0.035948</td>\n",
       "      <td>0.049083</td>\n",
       "      <td>0.015529</td>\n",
       "      <td>0.013962</td>\n",
       "      <td>0.020127</td>\n",
       "      <td>1.000000</td>\n",
       "      <td>0.016082</td>\n",
       "      <td>0.004730</td>\n",
       "      <td>0.023340</td>\n",
       "      <td>0.124716</td>\n",
       "    </tr>\n",
       "    <tr>\n",
       "      <th>7</th>\n",
       "      <td>0.024575</td>\n",
       "      <td>0.004166</td>\n",
       "      <td>0.077013</td>\n",
       "      <td>0.004686</td>\n",
       "      <td>0.004213</td>\n",
       "      <td>0.040639</td>\n",
       "      <td>0.016082</td>\n",
       "      <td>1.000000</td>\n",
       "      <td>0.004288</td>\n",
       "      <td>0.036551</td>\n",
       "      <td>0.037636</td>\n",
       "    </tr>\n",
       "    <tr>\n",
       "      <th>8</th>\n",
       "      <td>0.056486</td>\n",
       "      <td>0.004198</td>\n",
       "      <td>0.004202</td>\n",
       "      <td>0.004722</td>\n",
       "      <td>0.237789</td>\n",
       "      <td>0.060641</td>\n",
       "      <td>0.004730</td>\n",
       "      <td>0.004288</td>\n",
       "      <td>1.000000</td>\n",
       "      <td>0.003927</td>\n",
       "      <td>0.037925</td>\n",
       "    </tr>\n",
       "    <tr>\n",
       "      <th>9</th>\n",
       "      <td>0.003867</td>\n",
       "      <td>0.039896</td>\n",
       "      <td>0.059312</td>\n",
       "      <td>0.033572</td>\n",
       "      <td>0.011591</td>\n",
       "      <td>0.096220</td>\n",
       "      <td>0.023340</td>\n",
       "      <td>0.036551</td>\n",
       "      <td>0.003927</td>\n",
       "      <td>1.000000</td>\n",
       "      <td>0.103539</td>\n",
       "    </tr>\n",
       "    <tr>\n",
       "      <th>10</th>\n",
       "      <td>0.037346</td>\n",
       "      <td>0.110689</td>\n",
       "      <td>0.036879</td>\n",
       "      <td>0.124518</td>\n",
       "      <td>0.111950</td>\n",
       "      <td>0.000000</td>\n",
       "      <td>0.124716</td>\n",
       "      <td>0.037636</td>\n",
       "      <td>0.037925</td>\n",
       "      <td>0.103539</td>\n",
       "      <td>1.000000</td>\n",
       "    </tr>\n",
       "  </tbody>\n",
       "</table>\n",
       "</div>"
      ],
      "text/plain": [
       "          0         1         2         3         4         5         6   \\\n",
       "0   1.000000  0.004134  0.004138  0.004650  0.035348  0.000000  0.004658   \n",
       "1   0.004134  1.000000  0.004082  0.035890  0.012392  0.027444  0.035948   \n",
       "2   0.004138  0.004082  1.000000  0.004592  0.004129  0.085177  0.049083   \n",
       "3   0.004650  0.035890  0.004592  1.000000  0.058659  0.000000  0.015529   \n",
       "4   0.035348  0.012392  0.004129  0.058659  1.000000  0.117476  0.013962   \n",
       "5   0.000000  0.027444  0.085177  0.000000  0.117476  1.000000  0.020127   \n",
       "6   0.004658  0.035948  0.049083  0.015529  0.013962  0.020127  1.000000   \n",
       "7   0.024575  0.004166  0.077013  0.004686  0.004213  0.040639  0.016082   \n",
       "8   0.056486  0.004198  0.004202  0.004722  0.237789  0.060641  0.004730   \n",
       "9   0.003867  0.039896  0.059312  0.033572  0.011591  0.096220  0.023340   \n",
       "10  0.037346  0.110689  0.036879  0.124518  0.111950  0.000000  0.124716   \n",
       "\n",
       "          7         8         9         10  \n",
       "0   0.024575  0.056486  0.003867  0.037346  \n",
       "1   0.004166  0.004198  0.039896  0.110689  \n",
       "2   0.077013  0.004202  0.059312  0.036879  \n",
       "3   0.004686  0.004722  0.033572  0.124518  \n",
       "4   0.004213  0.237789  0.011591  0.111950  \n",
       "5   0.040639  0.060641  0.096220  0.000000  \n",
       "6   0.016082  0.004730  0.023340  0.124716  \n",
       "7   1.000000  0.004288  0.036551  0.037636  \n",
       "8   0.004288  1.000000  0.003927  0.037925  \n",
       "9   0.036551  0.003927  1.000000  0.103539  \n",
       "10  0.037636  0.037925  0.103539  1.000000  "
      ]
     },
     "execution_count": 108,
     "metadata": {},
     "output_type": "execute_result"
    }
   ],
   "source": [
    "cos_sim_df = pd.DataFrame(cosine_similarity(tfidfv_array, tfidfv_array)) \n",
    "cos_sim_df"
   ]
  },
  {
   "cell_type": "code",
   "execution_count": 109,
   "metadata": {
    "id": "PVOB2V_XdbbK"
   },
   "outputs": [
    {
     "data": {
      "text/plain": [
       "10"
      ]
     },
     "execution_count": 109,
     "metadata": {},
     "output_type": "execute_result"
    }
   ],
   "source": [
    "len_contents = len(cos_sim_df)-1\n",
    "len_contents"
   ]
  },
  {
   "cell_type": "code",
   "execution_count": 110,
   "metadata": {
    "colab": {
     "base_uri": "https://localhost:8080/"
    },
    "id": "NOR13wJLZoVy",
    "outputId": "3eebebd7-ae87-4b64-bd71-6734d8bb5a20"
   },
   "outputs": [
    {
     "data": {
      "text/plain": [
       "10    1.000000\n",
       "6     0.124716\n",
       "3     0.124518\n",
       "4     0.111950\n",
       "1     0.110689\n",
       "9     0.103539\n",
       "8     0.037925\n",
       "7     0.037636\n",
       "0     0.037346\n",
       "2     0.036879\n",
       "5     0.000000\n",
       "Name: 10, dtype: float64"
      ]
     },
     "execution_count": 110,
     "metadata": {},
     "output_type": "execute_result"
    }
   ],
   "source": [
    "cos_sim_df_sorted = cos_sim_df.iloc[len_contents].sort_values(ascending=False)\n",
    "cos_sim_df_sorted"
   ]
  },
  {
   "cell_type": "code",
   "execution_count": 111,
   "metadata": {
    "colab": {
     "base_uri": "https://localhost:8080/"
    },
    "id": "hIWwe6Jnbb_Z",
    "outputId": "d582346b-7482-4d64-b4e4-b5a951ff0794"
   },
   "outputs": [
    {
     "name": "stdout",
     "output_type": "stream",
     "text": [
      "7.251985408098858\n"
     ]
    }
   ],
   "source": [
    "cos_sim_df_sorted_others = cos_sim_df_sorted[1:]\n",
    "cos_sim_df_sorted_others\n",
    "\n",
    "cos_sim_df_sorted_others_sum = cos_sim_df_sorted_others.sum()/10 * 100 # percent 지표\n",
    "print(cos_sim_df_sorted_others_sum)"
   ]
  },
  {
   "cell_type": "code",
   "execution_count": 112,
   "metadata": {
    "scrolled": true
   },
   "outputs": [
    {
     "data": {
      "text/plain": [
       "[0.0,\n",
       " 1.603609031248817,\n",
       " 6.899689567374691,\n",
       " 8.804377789527338,\n",
       " 11.1853328498195,\n",
       " 6.996974896240077,\n",
       " 9.786849482847176,\n",
       " 5.579251564759708,\n",
       " 7.138334768644464,\n",
       " 7.251985408098858]"
      ]
     },
     "execution_count": 112,
     "metadata": {},
     "output_type": "execute_result"
    }
   ],
   "source": [
    "cos.append(cos_sim_df_sorted_others_sum)\n",
    "cos"
   ]
  },
  {
   "cell_type": "code",
   "execution_count": 113,
   "metadata": {},
   "outputs": [
    {
     "data": {
      "text/html": [
       "<div>\n",
       "<style scoped>\n",
       "    .dataframe tbody tr th:only-of-type {\n",
       "        vertical-align: middle;\n",
       "    }\n",
       "\n",
       "    .dataframe tbody tr th {\n",
       "        vertical-align: top;\n",
       "    }\n",
       "\n",
       "    .dataframe thead th {\n",
       "        text-align: right;\n",
       "    }\n",
       "</style>\n",
       "<table border=\"1\" class=\"dataframe\">\n",
       "  <thead>\n",
       "    <tr style=\"text-align: right;\">\n",
       "      <th></th>\n",
       "      <th>0</th>\n",
       "    </tr>\n",
       "  </thead>\n",
       "  <tbody>\n",
       "    <tr>\n",
       "      <th>0</th>\n",
       "      <td>0.000000</td>\n",
       "    </tr>\n",
       "    <tr>\n",
       "      <th>1</th>\n",
       "      <td>1.603609</td>\n",
       "    </tr>\n",
       "    <tr>\n",
       "      <th>2</th>\n",
       "      <td>6.899690</td>\n",
       "    </tr>\n",
       "    <tr>\n",
       "      <th>3</th>\n",
       "      <td>8.804378</td>\n",
       "    </tr>\n",
       "    <tr>\n",
       "      <th>4</th>\n",
       "      <td>11.185333</td>\n",
       "    </tr>\n",
       "    <tr>\n",
       "      <th>5</th>\n",
       "      <td>6.996975</td>\n",
       "    </tr>\n",
       "    <tr>\n",
       "      <th>6</th>\n",
       "      <td>9.786849</td>\n",
       "    </tr>\n",
       "    <tr>\n",
       "      <th>7</th>\n",
       "      <td>5.579252</td>\n",
       "    </tr>\n",
       "    <tr>\n",
       "      <th>8</th>\n",
       "      <td>7.138335</td>\n",
       "    </tr>\n",
       "    <tr>\n",
       "      <th>9</th>\n",
       "      <td>7.251985</td>\n",
       "    </tr>\n",
       "  </tbody>\n",
       "</table>\n",
       "</div>"
      ],
      "text/plain": [
       "           0\n",
       "0   0.000000\n",
       "1   1.603609\n",
       "2   6.899690\n",
       "3   8.804378\n",
       "4  11.185333\n",
       "5   6.996975\n",
       "6   9.786849\n",
       "7   5.579252\n",
       "8   7.138335\n",
       "9   7.251985"
      ]
     },
     "execution_count": 113,
     "metadata": {},
     "output_type": "execute_result"
    }
   ],
   "source": [
    "cos_df = pd.DataFrame(cos)\n",
    "cos_df"
   ]
  },
  {
   "cell_type": "markdown",
   "metadata": {},
   "source": [
    "# 시각화"
   ]
  },
  {
   "cell_type": "code",
   "execution_count": 114,
   "metadata": {},
   "outputs": [],
   "source": [
    "plt.rc(\"font\", family=\"Malgun Gothic\") # window"
   ]
  },
  {
   "cell_type": "code",
   "execution_count": 115,
   "metadata": {},
   "outputs": [
    {
     "data": {
      "text/plain": [
       "Text(0.5, 1.0, '네이버 코사인 유사도(%)')"
      ]
     },
     "execution_count": 115,
     "metadata": {},
     "output_type": "execute_result"
    },
    {
     "data": {
      "image/png": "[encoded data removed]",
      "text/plain": [
       "<Figure size 432x288 with 1 Axes>"
      ]
     },
     "metadata": {
      "needs_background": "light"
     },
     "output_type": "display_data"
    }
   ],
   "source": [
    "df1=pd.DataFrame({'day':('19.05.10','19.05.20','19.05.30','19.06.09','19.06.19','19.06.29', '19.07.09', '19.07.19', '19.07.29', '19.08.08'),'결과':cos})\n",
    "p = sns.barplot(data = df1, x ='day',y='결과')\n",
    "p.set_xticklabels(p.get_xticklabels(), rotation=45, horizontalalignment='right')\n",
    "p.set_title(\"네이버 코사인 유사도(%)\")"
   ]
  },
  {
   "cell_type": "code",
   "execution_count": 116,
   "metadata": {},
   "outputs": [
    {
     "data": {
      "text/plain": [
       "'인천 적수'"
      ]
     },
     "execution_count": 116,
     "metadata": {},
     "output_type": "execute_result"
    }
   ],
   "source": [
    "list_search = ' '.join(list_region) + ' ' + ' '.join(list_keyword)\n",
    "list_search"
   ]
  }
 ],
 "metadata": {
  "colab": {
   "collapsed_sections": [],
   "name": "py-cr-naver-v4-tfidfscore-v2-rank-fin",
   "provenance": []
  },
  "kernelspec": {
   "display_name": "Python 3 (ipykernel)",
   "language": "python",
   "name": "python3"
  },
  "language_info": {
   "codemirror_mode": {
    "name": "ipython",
    "version": 3
   },
   "file_extension": ".py",
   "mimetype": "text/x-python",
   "name": "python",
   "nbconvert_exporter": "python",
   "pygments_lexer": "ipython3",
   "version": "3.9.7"
  },
  "toc": {
   "base_numbering": 1,
   "nav_menu": {},
   "number_sections": true,
   "sideBar": true,
   "skip_h1_title": false,
   "title_cell": "Table of Contents",
   "title_sidebar": "Contents",
   "toc_cell": false,
   "toc_position": {},
   "toc_section_display": true,
   "toc_window_display": true
  }
 },
 "nbformat": 4,
 "nbformat_minor": 1
}
