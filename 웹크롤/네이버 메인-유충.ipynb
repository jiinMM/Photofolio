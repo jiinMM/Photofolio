{
 "cells": [
  {
   "cell_type": "markdown",
   "metadata": {},
   "source": [
    "#  library"
   ]
  },
  {
   "cell_type": "markdown",
   "metadata": {
    "id": "C2phFhlBOiTM"
   },
   "source": [
    "main() 함수 내 crawler() 함수 수행"
   ]
  },
  {
   "cell_type": "code",
   "execution_count": 1,
   "metadata": {
    "id": "Fc0h3a5dl7t0"
   },
   "outputs": [],
   "source": [
    " # -*- coding: utf-8 -*-\n",
    "from bs4 import BeautifulSoup\n",
    "from datetime import datetime\n",
    "import requests\n",
    "import numpy as np\n",
    "import pandas as pd\n",
    "import re\n",
    "from sklearn.feature_extraction.text import TfidfVectorizer\n",
    "from sklearn.metrics.pairwise import cosine_similarity\n",
    "import matplotlib.pyplot as plt\n",
    "import seaborn as sns"
   ]
  },
  {
   "cell_type": "code",
   "execution_count": 2,
   "metadata": {
    "colab": {
     "base_uri": "https://localhost:8080/",
     "height": 108
    },
    "id": "6q8j9PKxwcV3",
    "outputId": "cabac983-7406-4205-aa69-c6ade3160880"
   },
   "outputs": [
    {
     "data": {
      "text/plain": [
       "\"\\nfname = '한국행정구역분류_2022.1.1.기준.xlsx'\\ndata_region = pd.read_excel(fname, sheet_name = [1], skiprows=2, dtype={'대분류':str, '중분류':str, '소분류':str})\\ndata_region[1].drop('Unnamed: 0', axis=1, inplace=True)\\ndata_citydo_all = data_region[1]['시도'][1:]\\ndata_citydo_unique = data_citydo_all.unique()\\nbooleanArray1 = [not pd.isnull(number) for number in data_citydo_unique]\\ndata_citydo_unique_notna = data_citydo_unique[booleanArray1]\\ndata_citydo_unique_notna\\ndata_citygungu_all = data_region[1]['시군구'][1:]\\ndata_citygungu_unique = data_citygungu_all.unique()\\ndata_citygungu_unique\\n\""
      ]
     },
     "execution_count": 2,
     "metadata": {},
     "output_type": "execute_result"
    }
   ],
   "source": [
    "\"\"\"\n",
    "fname = '한국행정구역분류_2022.1.1.기준.xlsx'\n",
    "data_region = pd.read_excel(fname, sheet_name = [1], skiprows=2, dtype={'대분류':str, '중분류':str, '소분류':str})\n",
    "data_region[1].drop('Unnamed: 0', axis=1, inplace=True)\n",
    "data_citydo_all = data_region[1]['시도'][1:]\n",
    "data_citydo_unique = data_citydo_all.unique()\n",
    "booleanArray1 = [not pd.isnull(number) for number in data_citydo_unique]\n",
    "data_citydo_unique_notna = data_citydo_unique[booleanArray1]\n",
    "data_citydo_unique_notna\n",
    "data_citygungu_all = data_region[1]['시군구'][1:]\n",
    "data_citygungu_unique = data_citygungu_all.unique()\n",
    "data_citygungu_unique\n",
    "\"\"\""
   ]
  },
  {
   "cell_type": "markdown",
   "metadata": {},
   "source": [
    "# 크롤링"
   ]
  },
  {
   "cell_type": "markdown",
   "metadata": {
    "id": "bt_sBMd8TtDb"
   },
   "source": [
    "- 크롤링 해오는 것 : 링크,제목,신문사,내용요약본\n",
    "- 키워드 : 붉은물, 적수, 유충\n",
    "\n",
    "\n",
    "- 내용요약본  -> 정제 작업 필요\n",
    "- 리스트 -> 딕셔너리 -> df -> 엑셀로 저장"
   ]
  },
  {
   "cell_type": "code",
   "execution_count": 2,
   "metadata": {},
   "outputs": [],
   "source": [
    "cos = []"
   ]
  },
  {
   "cell_type": "code",
   "execution_count": 104,
   "metadata": {
    "colab": {
     "base_uri": "https://localhost:8080/"
    },
    "id": "tj46tPSZODDt",
    "outputId": "e404183d-6ac8-476a-e1cf-e069671b1191",
    "scrolled": false
   },
   "outputs": [
    {
     "name": "stdout",
     "output_type": "stream",
     "text": [
      "최대 크롤링할 페이지 수 입력하시오: 1\n",
      "뉴스 검색 방식 입력(관련도순=0  최신순=1  오래된순=2): 0\n",
      "                           title source  \\\n",
      "0        인천시 남동구, 장마철 방역소독 활동 실시   기호일보   \n",
      "1  인천 남동구, 장마 후 모기억제 위한 방역 활동 총력  메트로신문   \n",
      "\n",
      "                                            contents  \\\n",
      "0  기호일보, KIHOILBO 인천시 남동구는 집중호우와 무더위로 인한 감염병 발생을 ...   \n",
      "1  남동구, 장마 후 모기억제 위한 방역 활동 총력 인천 남동구(구청장 이강호)는 장마...   \n",
      "\n",
      "                                                link  \n",
      "0  http://www.kihoilbo.co.kr/?mod=news&act=articl...  \n",
      "1  http://www.metroseoul.co.kr/news/newsview?news...  \n"
     ]
    }
   ],
   "source": [
    "flag_save = 0\n",
    "\n",
    "maxpage = input(\"최대 크롤링할 페이지 수 입력하시오: \")  # 1\n",
    "sort = input(\"뉴스 검색 방식 입력(관련도순=0  최신순=1  오래된순=2): \") # 0\n",
    "\n",
    "s_date = '2019.08.08' # 2019.05.10  2019.05.20  2019.05.30  2019.06.09  2019.06.19  2019.06.29  2019.07.09  2019.07.19  2019.07.29  2019.08.08\n",
    "e_date = '2019.08.17' # 2019.05.19  2019.05.29  2019.06.08  2019.06.18  2019.06.28  2019.07.08  2019.07.18  2019.07.28  2019.08.07  2019.08.17\n",
    "\n",
    "#각 크롤링 결과 저장하기 위한 리스트 선언\n",
    "title_text=[]\n",
    "link_text=[]\n",
    "source_text=[]\n",
    "contents_text=[]\n",
    "result={}\n",
    "\n",
    "#엑셀로 저장하기 위한 변수\n",
    "#RESULT_PATH ='C:/'  #결과 저장할 경로\n",
    "now = datetime.now() #파일이름 현 시간으로 저장하기\n",
    "\n",
    "#내용 정제화 함수\n",
    "def contents_cleansing(contents):\n",
    "    first_cleansing_contents = re.sub('<dl>.*?</a> </div> </dd> <dd>', '',str(contents)).strip()  #앞에 필요없는 부분 제거\n",
    "    second_cleansing_contents = re.sub('<ul class=\"relation_lst\">.*?</dd>', '', first_cleansing_contents).strip()#뒤에 필요없는 부분 제거 (새끼 기사)\n",
    "    third_cleansing_contents = re.sub('<.+?>', '', second_cleansing_contents).strip()\n",
    "    contents_text.append(third_cleansing_contents)\n",
    "    #print(contents_text)\n",
    "\n",
    "#크롤링 시작\n",
    "list_region = ['인천']\n",
    "\n",
    "for region in list_region:\n",
    "  list_keyword = ['유충']\n",
    "  for keyword in list_keyword:\n",
    "    query = region +' ' + keyword\n",
    "    s_from = s_date.replace(\".\",\"\")\n",
    "    e_to = e_date.replace(\".\",\"\")\n",
    "    page = 1\n",
    "    maxpage_t =(int(maxpage)-1)*10+1   # 11= 2페이지 21=3페이지 31=4페이지  ...81=9페이지 , 91=10페이지, 101=11페이지\n",
    "    while page <= maxpage_t:\n",
    "        url = \"https://search.naver.com/search.naver?where=news&query=\" + query + \"&sort=\"+sort+\"&ds=\" + s_date + \"&de=\" + e_date + \"&nso=so%3Ar%2Cp%3Afrom\" + s_from + \"to\" + e_to + \"%2Ca%3A&start=\" + str(page)\n",
    "        response = requests.get(url)\n",
    "        html = response.text\n",
    "\n",
    "        #뷰티풀소프의 인자값 지정\n",
    "        soup = BeautifulSoup(html, 'html.parser')\n",
    "\n",
    "        #<a>태그에서 제목과 링크주소 (a 태그 중 class 명이 news_tit인 것)\n",
    "        atags = soup.find_all('a', 'news_tit')\n",
    "        for atag in atags:\n",
    "            title = atag.get('title')\n",
    "            title_text.append(title)     #제목\n",
    "            link_text.append(atag['href'])   #링크주소\n",
    "\n",
    "        #신문사 추출 (a 태그 중 class 명이 info press인 것)\n",
    "        source_lists = soup.find_all('a', 'info press')\n",
    "        for source_list in source_lists:\n",
    "            source_text.append(source_list.text)    #신문사\n",
    "\n",
    "        #본문요약본 (a 태그 중 class 명이 api_txt_lines dsc_txt_wrap인 것)\n",
    "        contents_lists = soup.find_all('a','api_txt_lines dsc_txt_wrap')\n",
    "        for contents_list in contents_lists:\n",
    "            contents_cleansing(contents_list) #본문요약 정제화\n",
    "\n",
    "        #모든 리스트 딕셔너리형태로 저장\n",
    "        result= {\"title\":title_text ,  \"source\" : source_text ,\"contents\": contents_text ,\"link\":link_text }\n",
    "        df = pd.DataFrame(result)  #df로 변환\n",
    "        page += 10\n",
    "        print(df)\n",
    "\n",
    "if flag_save == 1:\n",
    "    # 새로 만들 파일이름 지정\n",
    "    outputFileName = '%s-%s-%s %s시 %s분 %s초 merging' % (now.year, now.month, now.day, now.hour, now.minute, now.second)\n",
    "    df.to_excel(outputFileName+'.xlsx',sheet_name='sheet1')\n",
    "    #df.to_csv(outputFileName+'.csv', mode='w')"
   ]
  },
  {
   "cell_type": "code",
   "execution_count": 105,
   "metadata": {
    "colab": {
     "base_uri": "https://localhost:8080/"
    },
    "id": "9wiQodirYGf_",
    "outputId": "72a943ec-2528-45aa-b7d8-ea9affaf9d45"
   },
   "outputs": [
    {
     "name": "stderr",
     "output_type": "stream",
     "text": [
      "C:\\Users\\qpflw\\AppData\\Local\\Temp/ipykernel_27364/123471369.py:3: FutureWarning: The series.append method is deprecated and will be removed from pandas in a future version. Use pandas.concat instead.\n",
      "  df_tfidf_base = df['contents'].append(dfNew,ignore_index=True)\n"
     ]
    },
    {
     "data": {
      "text/plain": [
       "0    기호일보, KIHOILBO 인천시 남동구는 집중호우와 무더위로 인한 감염병 발생을 ...\n",
       "1    남동구, 장마 후 모기억제 위한 방역 활동 총력 인천 남동구(구청장 이강호)는 장마...\n",
       "2                                                인천 유충\n",
       "dtype: object"
      ]
     },
     "execution_count": 105,
     "metadata": {},
     "output_type": "execute_result"
    }
   ],
   "source": [
    "list_search = ' '.join(list_region) + ' ' + ' '.join(list_keyword)\n",
    "dfNew = pd.Series(list_search)\n",
    "df_tfidf_base = df['contents'].append(dfNew,ignore_index=True)\n",
    "\n",
    "corpus = df_tfidf_base\n",
    "corpus"
   ]
  },
  {
   "cell_type": "code",
   "execution_count": 106,
   "metadata": {},
   "outputs": [
    {
     "data": {
      "text/html": [
       "<div>\n",
       "<style scoped>\n",
       "    .dataframe tbody tr th:only-of-type {\n",
       "        vertical-align: middle;\n",
       "    }\n",
       "\n",
       "    .dataframe tbody tr th {\n",
       "        vertical-align: top;\n",
       "    }\n",
       "\n",
       "    .dataframe thead th {\n",
       "        text-align: right;\n",
       "    }\n",
       "</style>\n",
       "<table border=\"1\" class=\"dataframe\">\n",
       "  <thead>\n",
       "    <tr style=\"text-align: right;\">\n",
       "      <th></th>\n",
       "      <th>title</th>\n",
       "      <th>source</th>\n",
       "      <th>contents</th>\n",
       "      <th>link</th>\n",
       "    </tr>\n",
       "  </thead>\n",
       "  <tbody>\n",
       "    <tr>\n",
       "      <th>0</th>\n",
       "      <td>인천시 남동구, 장마철 방역소독 활동 실시</td>\n",
       "      <td>기호일보</td>\n",
       "      <td>기호일보, KIHOILBO 인천시 남동구는 집중호우와 무더위로 인한 감염병 발생을 ...</td>\n",
       "      <td>http://www.kihoilbo.co.kr/?mod=news&amp;act=articl...</td>\n",
       "    </tr>\n",
       "    <tr>\n",
       "      <th>1</th>\n",
       "      <td>인천 남동구, 장마 후 모기억제 위한 방역 활동 총력</td>\n",
       "      <td>메트로신문</td>\n",
       "      <td>남동구, 장마 후 모기억제 위한 방역 활동 총력 인천 남동구(구청장 이강호)는 장마...</td>\n",
       "      <td>http://www.metroseoul.co.kr/news/newsview?news...</td>\n",
       "    </tr>\n",
       "  </tbody>\n",
       "</table>\n",
       "</div>"
      ],
      "text/plain": [
       "                           title source  \\\n",
       "0        인천시 남동구, 장마철 방역소독 활동 실시   기호일보   \n",
       "1  인천 남동구, 장마 후 모기억제 위한 방역 활동 총력  메트로신문   \n",
       "\n",
       "                                            contents  \\\n",
       "0  기호일보, KIHOILBO 인천시 남동구는 집중호우와 무더위로 인한 감염병 발생을 ...   \n",
       "1  남동구, 장마 후 모기억제 위한 방역 활동 총력 인천 남동구(구청장 이강호)는 장마...   \n",
       "\n",
       "                                                link  \n",
       "0  http://www.kihoilbo.co.kr/?mod=news&act=articl...  \n",
       "1  http://www.metroseoul.co.kr/news/newsview?news...  "
      ]
     },
     "execution_count": 106,
     "metadata": {},
     "output_type": "execute_result"
    }
   ],
   "source": [
    "df"
   ]
  },
  {
   "cell_type": "markdown",
   "metadata": {},
   "source": [
    "# 벡터화"
   ]
  },
  {
   "cell_type": "code",
   "execution_count": 107,
   "metadata": {
    "colab": {
     "base_uri": "https://localhost:8080/"
    },
    "id": "NTvVKRyCUYvg",
    "outputId": "a22b06c9-2cf5-4563-f96e-b6eb9a665e0f"
   },
   "outputs": [],
   "source": [
    "tfidfv = TfidfVectorizer().fit(corpus)\n",
    "tfidfv_array = tfidfv.transform(corpus).toarray()"
   ]
  },
  {
   "cell_type": "code",
   "execution_count": 108,
   "metadata": {},
   "outputs": [
    {
     "data": {
      "text/plain": [
       "array([[0.18709413, 0.18709413, 0.        , 0.14228991, 0.18709413,\n",
       "        0.        , 0.14228991, 0.14228991, 0.18709413, 0.        ,\n",
       "        0.18709413, 0.18709413, 0.        , 0.18709413, 0.14228991,\n",
       "        0.18709413, 0.18709413, 0.        , 0.        , 0.14228991,\n",
       "        0.14228991, 0.        , 0.18709413, 0.        , 0.18709413,\n",
       "        0.        , 0.18709413, 0.14228991, 0.14228991, 0.        ,\n",
       "        0.14228991, 0.18709413, 0.        , 0.18709413, 0.        ,\n",
       "        0.14228991, 0.        , 0.        , 0.        , 0.18709413,\n",
       "        0.14228991, 0.14228991, 0.14228991, 0.        , 0.18709413,\n",
       "        0.14228991, 0.14228991, 0.14228991, 0.        , 0.14228991,\n",
       "        0.14228991, 0.14228991, 0.        , 0.18709413, 0.14228991],\n",
       "       [0.        , 0.        , 0.17918273, 0.13627309, 0.        ,\n",
       "        0.17918273, 0.13627309, 0.13627309, 0.        , 0.17918273,\n",
       "        0.        , 0.        , 0.35836546, 0.        , 0.13627309,\n",
       "        0.        , 0.        , 0.17918273, 0.17918273, 0.13627309,\n",
       "        0.13627309, 0.17918273, 0.        , 0.17918273, 0.        ,\n",
       "        0.17918273, 0.        , 0.13627309, 0.13627309, 0.17918273,\n",
       "        0.13627309, 0.        , 0.17918273, 0.        , 0.17918273,\n",
       "        0.13627309, 0.        , 0.17918273, 0.13627309, 0.        ,\n",
       "        0.13627309, 0.13627309, 0.13627309, 0.17918273, 0.        ,\n",
       "        0.13627309, 0.13627309, 0.13627309, 0.17918273, 0.13627309,\n",
       "        0.13627309, 0.13627309, 0.17918273, 0.        , 0.13627309],\n",
       "       [0.        , 0.        , 0.        , 0.        , 0.        ,\n",
       "        0.        , 0.        , 0.        , 0.        , 0.        ,\n",
       "        0.        , 0.        , 0.        , 0.        , 0.        ,\n",
       "        0.        , 0.        , 0.        , 0.        , 0.        ,\n",
       "        0.        , 0.        , 0.        , 0.        , 0.        ,\n",
       "        0.        , 0.        , 0.        , 0.        , 0.        ,\n",
       "        0.        , 0.        , 0.        , 0.        , 0.        ,\n",
       "        0.        , 0.79596054, 0.        , 0.60534851, 0.        ,\n",
       "        0.        , 0.        , 0.        , 0.        , 0.        ,\n",
       "        0.        , 0.        , 0.        , 0.        , 0.        ,\n",
       "        0.        , 0.        , 0.        , 0.        , 0.        ]])"
      ]
     },
     "execution_count": 108,
     "metadata": {},
     "output_type": "execute_result"
    }
   ],
   "source": [
    "tfidfv_array"
   ]
  },
  {
   "cell_type": "markdown",
   "metadata": {},
   "source": [
    "# 유사도"
   ]
  },
  {
   "cell_type": "code",
   "execution_count": 109,
   "metadata": {
    "colab": {
     "base_uri": "https://localhost:8080/",
     "height": 394
    },
    "id": "vLUUILCkYAZg",
    "outputId": "8346b1d5-7233-4618-be38-f3936ee6253e"
   },
   "outputs": [
    {
     "data": {
      "text/html": [
       "<div>\n",
       "<style scoped>\n",
       "    .dataframe tbody tr th:only-of-type {\n",
       "        vertical-align: middle;\n",
       "    }\n",
       "\n",
       "    .dataframe tbody tr th {\n",
       "        vertical-align: top;\n",
       "    }\n",
       "\n",
       "    .dataframe thead th {\n",
       "        text-align: right;\n",
       "    }\n",
       "</style>\n",
       "<table border=\"1\" class=\"dataframe\">\n",
       "  <thead>\n",
       "    <tr style=\"text-align: right;\">\n",
       "      <th></th>\n",
       "      <th>0</th>\n",
       "      <th>1</th>\n",
       "      <th>2</th>\n",
       "    </tr>\n",
       "  </thead>\n",
       "  <tbody>\n",
       "    <tr>\n",
       "      <th>0</th>\n",
       "      <td>1.000000</td>\n",
       "      <td>0.387806</td>\n",
       "      <td>0.000000</td>\n",
       "    </tr>\n",
       "    <tr>\n",
       "      <th>1</th>\n",
       "      <td>0.387806</td>\n",
       "      <td>1.000000</td>\n",
       "      <td>0.082493</td>\n",
       "    </tr>\n",
       "    <tr>\n",
       "      <th>2</th>\n",
       "      <td>0.000000</td>\n",
       "      <td>0.082493</td>\n",
       "      <td>1.000000</td>\n",
       "    </tr>\n",
       "  </tbody>\n",
       "</table>\n",
       "</div>"
      ],
      "text/plain": [
       "          0         1         2\n",
       "0  1.000000  0.387806  0.000000\n",
       "1  0.387806  1.000000  0.082493\n",
       "2  0.000000  0.082493  1.000000"
      ]
     },
     "execution_count": 109,
     "metadata": {},
     "output_type": "execute_result"
    }
   ],
   "source": [
    "cos_sim_df = pd.DataFrame(cosine_similarity(tfidfv_array, tfidfv_array)) \n",
    "cos_sim_df"
   ]
  },
  {
   "cell_type": "code",
   "execution_count": 110,
   "metadata": {
    "id": "PVOB2V_XdbbK"
   },
   "outputs": [
    {
     "data": {
      "text/plain": [
       "2"
      ]
     },
     "execution_count": 110,
     "metadata": {},
     "output_type": "execute_result"
    }
   ],
   "source": [
    "len_contents = len(cos_sim_df)-1\n",
    "len_contents"
   ]
  },
  {
   "cell_type": "code",
   "execution_count": 111,
   "metadata": {
    "colab": {
     "base_uri": "https://localhost:8080/"
    },
    "id": "NOR13wJLZoVy",
    "outputId": "3eebebd7-ae87-4b64-bd71-6734d8bb5a20"
   },
   "outputs": [
    {
     "data": {
      "text/plain": [
       "2    1.000000\n",
       "1    0.082493\n",
       "0    0.000000\n",
       "Name: 2, dtype: float64"
      ]
     },
     "execution_count": 111,
     "metadata": {},
     "output_type": "execute_result"
    }
   ],
   "source": [
    "cos_sim_df_sorted = cos_sim_df.iloc[len_contents].sort_values(ascending=False)\n",
    "cos_sim_df_sorted"
   ]
  },
  {
   "cell_type": "code",
   "execution_count": 112,
   "metadata": {
    "colab": {
     "base_uri": "https://localhost:8080/"
    },
    "id": "hIWwe6Jnbb_Z",
    "outputId": "d582346b-7482-4d64-b4e4-b5a951ff0794"
   },
   "outputs": [
    {
     "name": "stdout",
     "output_type": "stream",
     "text": [
      "0.8249270893349829\n"
     ]
    }
   ],
   "source": [
    "cos_sim_df_sorted_others = cos_sim_df_sorted[1:]\n",
    "cos_sim_df_sorted_others\n",
    "\n",
    "cos_sim_df_sorted_others_sum = cos_sim_df_sorted_others.sum()/10 * 100 # percent 지표\n",
    "print(cos_sim_df_sorted_others_sum)"
   ]
  },
  {
   "cell_type": "code",
   "execution_count": 113,
   "metadata": {
    "scrolled": true
   },
   "outputs": [
    {
     "data": {
      "text/plain": [
       "[0.6922450137975561,\n",
       " 3.8943174085198122,\n",
       " 3.3462950762355455,\n",
       " 9.177497269169354,\n",
       " 4.374857818953829,\n",
       " 3.527009995595795,\n",
       " 0.7612145218879015,\n",
       " 5.657609186710974,\n",
       " 1.5342553542521657,\n",
       " 0.8249270893349829]"
      ]
     },
     "execution_count": 113,
     "metadata": {},
     "output_type": "execute_result"
    }
   ],
   "source": [
    "cos.append(cos_sim_df_sorted_others_sum)\n",
    "cos"
   ]
  },
  {
   "cell_type": "code",
   "execution_count": 114,
   "metadata": {},
   "outputs": [
    {
     "data": {
      "text/html": [
       "<div>\n",
       "<style scoped>\n",
       "    .dataframe tbody tr th:only-of-type {\n",
       "        vertical-align: middle;\n",
       "    }\n",
       "\n",
       "    .dataframe tbody tr th {\n",
       "        vertical-align: top;\n",
       "    }\n",
       "\n",
       "    .dataframe thead th {\n",
       "        text-align: right;\n",
       "    }\n",
       "</style>\n",
       "<table border=\"1\" class=\"dataframe\">\n",
       "  <thead>\n",
       "    <tr style=\"text-align: right;\">\n",
       "      <th></th>\n",
       "      <th>0</th>\n",
       "    </tr>\n",
       "  </thead>\n",
       "  <tbody>\n",
       "    <tr>\n",
       "      <th>0</th>\n",
       "      <td>0.692245</td>\n",
       "    </tr>\n",
       "    <tr>\n",
       "      <th>1</th>\n",
       "      <td>3.894317</td>\n",
       "    </tr>\n",
       "    <tr>\n",
       "      <th>2</th>\n",
       "      <td>3.346295</td>\n",
       "    </tr>\n",
       "    <tr>\n",
       "      <th>3</th>\n",
       "      <td>9.177497</td>\n",
       "    </tr>\n",
       "    <tr>\n",
       "      <th>4</th>\n",
       "      <td>4.374858</td>\n",
       "    </tr>\n",
       "    <tr>\n",
       "      <th>5</th>\n",
       "      <td>3.527010</td>\n",
       "    </tr>\n",
       "    <tr>\n",
       "      <th>6</th>\n",
       "      <td>0.761215</td>\n",
       "    </tr>\n",
       "    <tr>\n",
       "      <th>7</th>\n",
       "      <td>5.657609</td>\n",
       "    </tr>\n",
       "    <tr>\n",
       "      <th>8</th>\n",
       "      <td>1.534255</td>\n",
       "    </tr>\n",
       "    <tr>\n",
       "      <th>9</th>\n",
       "      <td>0.824927</td>\n",
       "    </tr>\n",
       "  </tbody>\n",
       "</table>\n",
       "</div>"
      ],
      "text/plain": [
       "          0\n",
       "0  0.692245\n",
       "1  3.894317\n",
       "2  3.346295\n",
       "3  9.177497\n",
       "4  4.374858\n",
       "5  3.527010\n",
       "6  0.761215\n",
       "7  5.657609\n",
       "8  1.534255\n",
       "9  0.824927"
      ]
     },
     "execution_count": 114,
     "metadata": {},
     "output_type": "execute_result"
    }
   ],
   "source": [
    "cos_df = pd.DataFrame(cos)\n",
    "cos_df"
   ]
  },
  {
   "cell_type": "markdown",
   "metadata": {},
   "source": [
    "# 시각화"
   ]
  },
  {
   "cell_type": "code",
   "execution_count": 115,
   "metadata": {},
   "outputs": [],
   "source": [
    "plt.rc(\"font\", family=\"Malgun Gothic\") # window"
   ]
  },
  {
   "cell_type": "code",
   "execution_count": 116,
   "metadata": {},
   "outputs": [
    {
     "data": {
      "text/plain": [
       "Text(0.5, 1.0, '네이버 코사인 유사도(%)')"
      ]
     },
     "execution_count": 116,
     "metadata": {},
     "output_type": "execute_result"
    },
    {
     "data": {
      "image/png": "[encoded data removed]",
      "text/plain": [
       "<Figure size 432x288 with 1 Axes>"
      ]
     },
     "metadata": {
      "needs_background": "light"
     },
     "output_type": "display_data"
    }
   ],
   "source": [
    "df1=pd.DataFrame({'day':('19.05.10','19.05.20','19.05.30','19.06.09','19.06.19','19.06.29', '19.07.09', '19.07.19', '19.07.29', '19.08.08'),'결과':cos})\n",
    "p = sns.barplot(data = df1, x ='day',y='결과')\n",
    "p.set_xticklabels(p.get_xticklabels(), rotation=45, horizontalalignment='right')\n",
    "p.set_title(\"네이버 코사인 유사도(%)\")"
   ]
  },
  {
   "cell_type": "code",
   "execution_count": 117,
   "metadata": {},
   "outputs": [
    {
     "data": {
      "text/plain": [
       "'인천 유충'"
      ]
     },
     "execution_count": 117,
     "metadata": {},
     "output_type": "execute_result"
    }
   ],
   "source": [
    "list_search = ' '.join(list_region) + ' ' + ' '.join(list_keyword)\n",
    "list_search"
   ]
  }
 ],
 "metadata": {
  "colab": {
   "collapsed_sections": [],
   "name": "py-cr-naver-v4-tfidfscore-v2-rank-fin",
   "provenance": []
  },
  "kernelspec": {
   "display_name": "Python 3 (ipykernel)",
   "language": "python",
   "name": "python3"
  },
  "language_info": {
   "codemirror_mode": {
    "name": "ipython",
    "version": 3
   },
   "file_extension": ".py",
   "mimetype": "text/x-python",
   "name": "python",
   "nbconvert_exporter": "python",
   "pygments_lexer": "ipython3",
   "version": "3.9.7"
  },
  "toc": {
   "base_numbering": 1,
   "nav_menu": {},
   "number_sections": true,
   "sideBar": true,
   "skip_h1_title": false,
   "title_cell": "Table of Contents",
   "title_sidebar": "Contents",
   "toc_cell": false,
   "toc_position": {},
   "toc_section_display": true,
   "toc_window_display": true
  }
 },
 "nbformat": 4,
 "nbformat_minor": 1
}
