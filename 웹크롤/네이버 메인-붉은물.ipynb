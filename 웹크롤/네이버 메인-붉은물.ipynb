{
 "cells": [
  {
   "cell_type": "markdown",
   "metadata": {},
   "source": [
    "#  library"
   ]
  },
  {
   "cell_type": "markdown",
   "metadata": {
    "id": "C2phFhlBOiTM"
   },
   "source": [
    "main() 함수 내 crawler() 함수 수행"
   ]
  },
  {
   "cell_type": "code",
   "execution_count": 2,
   "metadata": {
    "id": "Fc0h3a5dl7t0"
   },
   "outputs": [],
   "source": [
    " # -*- coding: utf-8 -*-\n",
    "from bs4 import BeautifulSoup\n",
    "from datetime import datetime\n",
    "import requests\n",
    "import numpy as np\n",
    "import pandas as pd\n",
    "import re\n",
    "from sklearn.feature_extraction.text import TfidfVectorizer\n",
    "from sklearn.metrics.pairwise import cosine_similarity\n",
    "import matplotlib.pyplot as plt\n",
    "import seaborn as sns"
   ]
  },
  {
   "cell_type": "code",
   "execution_count": 2,
   "metadata": {
    "colab": {
     "base_uri": "https://localhost:8080/",
     "height": 108
    },
    "id": "6q8j9PKxwcV3",
    "outputId": "cabac983-7406-4205-aa69-c6ade3160880"
   },
   "outputs": [
    {
     "data": {
      "text/plain": [
       "\"\\nfname = '한국행정구역분류_2022.1.1.기준.xlsx'\\ndata_region = pd.read_excel(fname, sheet_name = [1], skiprows=2, dtype={'대분류':str, '중분류':str, '소분류':str})\\ndata_region[1].drop('Unnamed: 0', axis=1, inplace=True)\\ndata_citydo_all = data_region[1]['시도'][1:]\\ndata_citydo_unique = data_citydo_all.unique()\\nbooleanArray1 = [not pd.isnull(number) for number in data_citydo_unique]\\ndata_citydo_unique_notna = data_citydo_unique[booleanArray1]\\ndata_citydo_unique_notna\\ndata_citygungu_all = data_region[1]['시군구'][1:]\\ndata_citygungu_unique = data_citygungu_all.unique()\\ndata_citygungu_unique\\n\""
      ]
     },
     "execution_count": 2,
     "metadata": {},
     "output_type": "execute_result"
    }
   ],
   "source": [
    "\"\"\"\n",
    "fname = '한국행정구역분류_2022.1.1.기준.xlsx'\n",
    "data_region = pd.read_excel(fname, sheet_name = [1], skiprows=2, dtype={'대분류':str, '중분류':str, '소분류':str})\n",
    "data_region[1].drop('Unnamed: 0', axis=1, inplace=True)\n",
    "data_citydo_all = data_region[1]['시도'][1:]\n",
    "data_citydo_unique = data_citydo_all.unique()\n",
    "booleanArray1 = [not pd.isnull(number) for number in data_citydo_unique]\n",
    "data_citydo_unique_notna = data_citydo_unique[booleanArray1]\n",
    "data_citydo_unique_notna\n",
    "data_citygungu_all = data_region[1]['시군구'][1:]\n",
    "data_citygungu_unique = data_citygungu_all.unique()\n",
    "data_citygungu_unique\n",
    "\"\"\""
   ]
  },
  {
   "cell_type": "markdown",
   "metadata": {},
   "source": [
    "# 크롤링"
   ]
  },
  {
   "cell_type": "markdown",
   "metadata": {
    "id": "bt_sBMd8TtDb"
   },
   "source": [
    "- 크롤링 해오는 것 : 링크,제목,신문사,내용요약본\n",
    "- 키워드 : 붉은물, 적수, 유충\n",
    "\n",
    "\n",
    "- 내용요약본  -> 정제 작업 필요\n",
    "- 리스트 -> 딕셔너리 -> df -> 엑셀로 저장"
   ]
  },
  {
   "cell_type": "code",
   "execution_count": 3,
   "metadata": {},
   "outputs": [],
   "source": [
    "cos = []"
   ]
  },
  {
   "cell_type": "code",
   "execution_count": 4,
   "metadata": {
    "colab": {
     "base_uri": "https://localhost:8080/"
    },
    "id": "tj46tPSZODDt",
    "outputId": "e404183d-6ac8-476a-e1cf-e069671b1191",
    "scrolled": false
   },
   "outputs": [
    {
     "name": "stdout",
     "output_type": "stream",
     "text": [
      "최대 크롤링할 페이지 수 입력하시오: 1\n",
      "뉴스 검색 방식 입력(관련도순=0  최신순=1  오래된순=2): 0\n",
      "                                  title      source  \\\n",
      "0  포항서도 '붉은 수돗물'?…\"수돗물 필터 색이 변했다\" 민원 쇄도  조선일보언론사 선정   \n",
      "1   인천 붉은 수돗물 피해주민들 “피해보상 청구서가 서약서냐” 발끈        한국경제   \n",
      "2              인천, 붉은 수돗물에 이어 이번엔 역한 냄새        매일경제   \n",
      "3       ‘인천 붉은 수돗물 사태’ 피해 주민들, 집단 소송 예고         뉴스핌   \n",
      "4   [단독] 인천 '붉은 수돗물' 감지 못한 탁도계, 조작가능 확인  TV조선언론사 선정   \n",
      "5             인천 공촌정수장 탁도계 업체 \"고장 안 났다\"       인천투데이   \n",
      "6           포항도 '붉은 수돗물'…원인 불명 '불안감 확산'         MBC   \n",
      "7                      인천시 붉은물 피해 보상 돌입        인천일보   \n",
      "8                인천시 붉은수돗물 보상안에…등돌린 주민들        매일경제   \n",
      "9               포항 남구서 '붉은 수돗물'…물 비린내까지      한국경제TV   \n",
      "\n",
      "                                            contents  \\\n",
      "0  그러나 포항시 측은 \"인천의 붉은 수돗물 사태와는 다르다\"고 했다. 포항시 관계자는...   \n",
      "1  “더 이상 민·형사상의 소(訴)를 제기하지 않을 것임을 서약하며 신청합니다.” 지난...   \n",
      "2  최근 팔당·풍납 취수장에 조류가 이상 증식하면서 풍납 원수에서는 1ℓ당 최고 46n...   \n",
      "3  이어 “박남춘 인천시장이 5일 붉은 물 사태 종료와 정상화를 선언하고 피해 보상안을...   \n",
      "4  인천에서 '붉은 수돗물'이 나왔을 당시에 탁도검사는 계속 정상으로 나왔습니다. 그래...   \n",
      "5  지난 5월 30일 인천 붉은 물 사태가 시작된 후 환경부는 조사를 벌여 중간 조사 ...   \n",
      "6  ◀ 앵커 ▶ 인천에서 붉은 수돗물 사태가 논란을 빚은 데 이어, 경북 포항시에서도 ...   \n",
      "7  ▲ 인천일보, INCHEONILBO 인천시가 붉은 수돗물 사태와 관련해 주민 피해 ...   \n",
      "8  앞서 인천시는 붉은 수돗물 사태의 발단이 된 공촌수계지역 수돗물 피해 주민과 소상공...   \n",
      "9  또 \"망간은 미네랄 한 종류로 다량 섭취하면 문제가 생기지만 미량은 인체에 해가 없...   \n",
      "\n",
      "                                                link  \n",
      "0  http://news.chosun.com/site/data/html_dir/2019...  \n",
      "1  https://www.hankyung.com/society/article/20190...  \n",
      "2  http://news.mk.co.kr/newsRead.php?year=2019&no...  \n",
      "3    http://www.newspim.com/news/view/20190811000116  \n",
      "4  http://news.tvchosun.com/site/data/html_dir/20...  \n",
      "5  http://www.incheontoday.com/news/articleView.h...  \n",
      "6  http://imnews.imbc.com/replay/2019/nwtoday/art...  \n",
      "7  http://www.incheonilbo.com/news/articleView.ht...  \n",
      "8  http://news.mk.co.kr/newsRead.php?year=2019&no...  \n",
      "9  http://news.wowtv.co.kr/NewsCenter/News/Read?a...  \n"
     ]
    }
   ],
   "source": [
    "flag_save = 0\n",
    "\n",
    "maxpage = input(\"최대 크롤링할 페이지 수 입력하시오: \")  # 1\n",
    "sort = input(\"뉴스 검색 방식 입력(관련도순=0  최신순=1  오래된순=2): \") # 0\n",
    "\n",
    "s_date = '2019.08.08' # 2019.05.10  2019.05.20  2019.05.30  2019.06.09  2019.06.19  2019.06.29  2019.07.09  2019.07.19  2019.07.29  2019.08.08\n",
    "e_date = '2019.08.17' # 2019.05.19  2019.05.29  2019.06.08  2019.06.18  2019.06.28  2019.07.08  2019.07.18  2019.07.28  2019.08.07  2019.08.17\n",
    "\n",
    "#각 크롤링 결과 저장하기 위한 리스트 선언\n",
    "title_text=[]\n",
    "link_text=[]\n",
    "source_text=[]\n",
    "contents_text=[]\n",
    "result={}\n",
    "\n",
    "#엑셀로 저장하기 위한 변수\n",
    "#RESULT_PATH ='C:/'  #결과 저장할 경로\n",
    "now = datetime.now() #파일이름 현 시간으로 저장하기\n",
    "\n",
    "#내용 정제화 함수\n",
    "def contents_cleansing(contents):\n",
    "    first_cleansing_contents = re.sub('<dl>.*?</a> </div> </dd> <dd>', '',str(contents)).strip()  #앞에 필요없는 부분 제거\n",
    "    second_cleansing_contents = re.sub('<ul class=\"relation_lst\">.*?</dd>', '', first_cleansing_contents).strip()#뒤에 필요없는 부분 제거 (새끼 기사)\n",
    "    third_cleansing_contents = re.sub('<.+?>', '', second_cleansing_contents).strip()\n",
    "    contents_text.append(third_cleansing_contents)\n",
    "    #print(contents_text)\n",
    "\n",
    "#크롤링 시작\n",
    "list_region = ['인천']\n",
    "\n",
    "for region in list_region:\n",
    "  list_keyword = ['붉은물']\n",
    "  for keyword in list_keyword:\n",
    "    query = region +' ' + keyword\n",
    "    s_from = s_date.replace(\".\",\"\")\n",
    "    e_to = e_date.replace(\".\",\"\")\n",
    "    page = 1\n",
    "    maxpage_t =(int(maxpage)-1)*10+1   # 11= 2페이지 21=3페이지 31=4페이지  ...81=9페이지 , 91=10페이지, 101=11페이지\n",
    "    while page <= maxpage_t:\n",
    "        url = \"https://search.naver.com/search.naver?where=news&query=\" + query + \"&sort=\"+sort+\"&ds=\" + s_date + \"&de=\" + e_date + \"&nso=so%3Ar%2Cp%3Afrom\" + s_from + \"to\" + e_to + \"%2Ca%3A&start=\" + str(page)\n",
    "        response = requests.get(url)\n",
    "        html = response.text\n",
    "\n",
    "        #뷰티풀소프의 인자값 지정\n",
    "        soup = BeautifulSoup(html, 'html.parser')\n",
    "\n",
    "        #<a>태그에서 제목과 링크주소 (a 태그 중 class 명이 news_tit인 것)\n",
    "        atags = soup.find_all('a', 'news_tit')\n",
    "        for atag in atags:\n",
    "            title = atag.get('title')\n",
    "            title_text.append(title)     #제목\n",
    "            link_text.append(atag['href'])   #링크주소\n",
    "\n",
    "        #신문사 추출 (a 태그 중 class 명이 info press인 것)\n",
    "        source_lists = soup.find_all('a', 'info press')\n",
    "        for source_list in source_lists:\n",
    "            source_text.append(source_list.text)    #신문사\n",
    "\n",
    "        #본문요약본 (a 태그 중 class 명이 api_txt_lines dsc_txt_wrap인 것)\n",
    "        contents_lists = soup.find_all('a','api_txt_lines dsc_txt_wrap')\n",
    "        for contents_list in contents_lists:\n",
    "            contents_cleansing(contents_list) #본문요약 정제화\n",
    "\n",
    "        #모든 리스트 딕셔너리형태로 저장\n",
    "        result= {\"title\":title_text ,  \"source\" : source_text ,\"contents\": contents_text ,\"link\":link_text }\n",
    "        df = pd.DataFrame(result)  #df로 변환\n",
    "        page += 10\n",
    "        print(df)\n",
    "\n",
    "if flag_save == 1:\n",
    "    # 새로 만들 파일이름 지정\n",
    "    outputFileName = '%s-%s-%s %s시 %s분 %s초 merging' % (now.year, now.month, now.day, now.hour, now.minute, now.second)\n",
    "    df.to_excel(outputFileName+'.xlsx',sheet_name='sheet1')\n",
    "    #df.to_csv(outputFileName+'.csv', mode='w')"
   ]
  },
  {
   "cell_type": "markdown",
   "metadata": {},
   "source": [
    "####### 정제화 비교"
   ]
  },
  {
   "cell_type": "code",
   "execution_count": 8,
   "metadata": {},
   "outputs": [
    {
     "data": {
      "text/plain": [
       "<a class=\"api_txt_lines dsc_txt_wrap\" href=\"http://news.chosun.com/site/data/html_dir/2019/08/11/2019081101670.html?utm_source=naver&amp;utm_medium=original&amp;utm_campaign=news\" onclick=\"return goOtherCR(this, 'a=nws*h.body&amp;r=1&amp;i=880000ED_000000000000000003466473&amp;g=023.0003466473&amp;u='+urlencode(this.href));\" target=\"_blank\">그러나 포항시 측은 \"<mark>인천</mark>의 <mark>붉은</mark> 수돗물 사태와는 다르다\"고 했다. 포항시 관계자는 \"물을 공급하는 경로를 무리하게 바꿔 노폐물이 떨어진 <mark>인천</mark>시와 달리 포항시는 급수 경로 변경이 없었다\"면서 \"수돗물 역시 음용수질기준을 충족한다\"고 했다. 기준을 충족한 수돗물도 필터와 맞닿는 과정에서 내부 물질로...</a>"
      ]
     },
     "execution_count": 8,
     "metadata": {},
     "output_type": "execute_result"
    }
   ],
   "source": [
    "contents_lists[0]"
   ]
  },
  {
   "cell_type": "code",
   "execution_count": 9,
   "metadata": {},
   "outputs": [
    {
     "data": {
      "text/plain": [
       "'그러나 포항시 측은 \"인천의 붉은 수돗물 사태와는 다르다\"고 했다. 포항시 관계자는 \"물을 공급하는 경로를 무리하게 바꿔 노폐물이 떨어진 인천시와 달리 포항시는 급수 경로 변경이 없었다\"면서 \"수돗물 역시 음용수질기준을 충족한다\"고 했다. 기준을 충족한 수돗물도 필터와 맞닿는 과정에서 내부 물질로...'"
      ]
     },
     "execution_count": 9,
     "metadata": {},
     "output_type": "execute_result"
    }
   ],
   "source": [
    "contents_text[0]"
   ]
  },
  {
   "cell_type": "code",
   "execution_count": 237,
   "metadata": {
    "colab": {
     "base_uri": "https://localhost:8080/"
    },
    "id": "9wiQodirYGf_",
    "outputId": "72a943ec-2528-45aa-b7d8-ea9affaf9d45"
   },
   "outputs": [
    {
     "name": "stderr",
     "output_type": "stream",
     "text": [
      "C:\\Users\\qpflw\\AppData\\Local\\Temp/ipykernel_2428/123471369.py:3: FutureWarning: The series.append method is deprecated and will be removed from pandas in a future version. Use pandas.concat instead.\n",
      "  df_tfidf_base = df['contents'].append(dfNew,ignore_index=True)\n"
     ]
    },
    {
     "data": {
      "text/plain": [
       "0     그러나 포항시 측은 \"인천의 붉은 수돗물 사태와는 다르다\"고 했다. 포항시 관계자는...\n",
       "1     “더 이상 민·형사상의 소(訴)를 제기하지 않을 것임을 서약하며 신청합니다.” 지난...\n",
       "2     최근 팔당·풍납 취수장에 조류가 이상 증식하면서 풍납 원수에서는 1ℓ당 최고 46n...\n",
       "3     이어 “박남춘 인천시장이 5일 붉은 물 사태 종료와 정상화를 선언하고 피해 보상안을...\n",
       "4     인천에서 '붉은 수돗물'이 나왔을 당시에 탁도검사는 계속 정상으로 나왔습니다. 그래...\n",
       "5     지난 5월 30일 인천 붉은 물 사태가 시작된 후 환경부는 조사를 벌여 중간 조사 ...\n",
       "6     ◀ 앵커 ▶ 인천에서 붉은 수돗물 사태가 논란을 빚은 데 이어, 경북 포항시에서도 ...\n",
       "7     ▲ 인천일보, INCHEONILBO 인천시가 붉은 수돗물 사태와 관련해 주민 피해 ...\n",
       "8     앞서 인천시는 붉은 수돗물 사태의 발단이 된 공촌수계지역 수돗물 피해 주민과 소상공...\n",
       "9     또 \"망간은 미네랄 한 종류로 다량 섭취하면 문제가 생기지만 미량은 인체에 해가 없...\n",
       "10                                               인천 붉은물\n",
       "dtype: object"
      ]
     },
     "execution_count": 237,
     "metadata": {},
     "output_type": "execute_result"
    }
   ],
   "source": [
    "list_search = ' '.join(list_region) + ' ' + ' '.join(list_keyword)\n",
    "dfNew = pd.Series(list_search)\n",
    "df_tfidf_base = df['contents'].append(dfNew,ignore_index=True)\n",
    "\n",
    "corpus = df_tfidf_base\n",
    "corpus"
   ]
  },
  {
   "cell_type": "code",
   "execution_count": 238,
   "metadata": {},
   "outputs": [
    {
     "data": {
      "text/html": [
       "<div>\n",
       "<style scoped>\n",
       "    .dataframe tbody tr th:only-of-type {\n",
       "        vertical-align: middle;\n",
       "    }\n",
       "\n",
       "    .dataframe tbody tr th {\n",
       "        vertical-align: top;\n",
       "    }\n",
       "\n",
       "    .dataframe thead th {\n",
       "        text-align: right;\n",
       "    }\n",
       "</style>\n",
       "<table border=\"1\" class=\"dataframe\">\n",
       "  <thead>\n",
       "    <tr style=\"text-align: right;\">\n",
       "      <th></th>\n",
       "      <th>title</th>\n",
       "      <th>source</th>\n",
       "      <th>contents</th>\n",
       "      <th>link</th>\n",
       "    </tr>\n",
       "  </thead>\n",
       "  <tbody>\n",
       "    <tr>\n",
       "      <th>0</th>\n",
       "      <td>포항서도 '붉은 수돗물'?…\"수돗물 필터 색이 변했다\" 민원 쇄도</td>\n",
       "      <td>조선일보언론사 선정</td>\n",
       "      <td>그러나 포항시 측은 \"인천의 붉은 수돗물 사태와는 다르다\"고 했다. 포항시 관계자는...</td>\n",
       "      <td>http://news.chosun.com/site/data/html_dir/2019...</td>\n",
       "    </tr>\n",
       "    <tr>\n",
       "      <th>1</th>\n",
       "      <td>인천 붉은 수돗물 피해주민들 “피해보상 청구서가 서약서냐” 발끈</td>\n",
       "      <td>한국경제</td>\n",
       "      <td>“더 이상 민·형사상의 소(訴)를 제기하지 않을 것임을 서약하며 신청합니다.” 지난...</td>\n",
       "      <td>https://www.hankyung.com/society/article/20190...</td>\n",
       "    </tr>\n",
       "    <tr>\n",
       "      <th>2</th>\n",
       "      <td>인천, 붉은 수돗물에 이어 이번엔 역한 냄새</td>\n",
       "      <td>매일경제</td>\n",
       "      <td>최근 팔당·풍납 취수장에 조류가 이상 증식하면서 풍납 원수에서는 1ℓ당 최고 46n...</td>\n",
       "      <td>http://news.mk.co.kr/newsRead.php?year=2019&amp;no...</td>\n",
       "    </tr>\n",
       "    <tr>\n",
       "      <th>3</th>\n",
       "      <td>‘인천 붉은 수돗물 사태’ 피해 주민들, 집단 소송 예고</td>\n",
       "      <td>뉴스핌</td>\n",
       "      <td>이어 “박남춘 인천시장이 5일 붉은 물 사태 종료와 정상화를 선언하고 피해 보상안을...</td>\n",
       "      <td>http://www.newspim.com/news/view/20190811000116</td>\n",
       "    </tr>\n",
       "    <tr>\n",
       "      <th>4</th>\n",
       "      <td>[단독] 인천 '붉은 수돗물' 감지 못한 탁도계, 조작가능 확인</td>\n",
       "      <td>TV조선언론사 선정</td>\n",
       "      <td>인천에서 '붉은 수돗물'이 나왔을 당시에 탁도검사는 계속 정상으로 나왔습니다. 그래...</td>\n",
       "      <td>http://news.tvchosun.com/site/data/html_dir/20...</td>\n",
       "    </tr>\n",
       "    <tr>\n",
       "      <th>5</th>\n",
       "      <td>인천 공촌정수장 탁도계 업체 \"고장 안 났다\"</td>\n",
       "      <td>인천투데이</td>\n",
       "      <td>지난 5월 30일 인천 붉은 물 사태가 시작된 후 환경부는 조사를 벌여 중간 조사 ...</td>\n",
       "      <td>http://www.incheontoday.com/news/articleView.h...</td>\n",
       "    </tr>\n",
       "    <tr>\n",
       "      <th>6</th>\n",
       "      <td>포항도 '붉은 수돗물'…원인 불명 '불안감 확산'</td>\n",
       "      <td>MBC</td>\n",
       "      <td>◀ 앵커 ▶ 인천에서 붉은 수돗물 사태가 논란을 빚은 데 이어, 경북 포항시에서도 ...</td>\n",
       "      <td>http://imnews.imbc.com/replay/2019/nwtoday/art...</td>\n",
       "    </tr>\n",
       "    <tr>\n",
       "      <th>7</th>\n",
       "      <td>인천시 붉은물 피해 보상 돌입</td>\n",
       "      <td>인천일보</td>\n",
       "      <td>▲ 인천일보, INCHEONILBO 인천시가 붉은 수돗물 사태와 관련해 주민 피해 ...</td>\n",
       "      <td>http://www.incheonilbo.com/news/articleView.ht...</td>\n",
       "    </tr>\n",
       "    <tr>\n",
       "      <th>8</th>\n",
       "      <td>인천시 붉은수돗물 보상안에…등돌린 주민들</td>\n",
       "      <td>매일경제</td>\n",
       "      <td>앞서 인천시는 붉은 수돗물 사태의 발단이 된 공촌수계지역 수돗물 피해 주민과 소상공...</td>\n",
       "      <td>http://news.mk.co.kr/newsRead.php?year=2019&amp;no...</td>\n",
       "    </tr>\n",
       "    <tr>\n",
       "      <th>9</th>\n",
       "      <td>포항 남구서 '붉은 수돗물'…물 비린내까지</td>\n",
       "      <td>한국경제TV</td>\n",
       "      <td>또 \"망간은 미네랄 한 종류로 다량 섭취하면 문제가 생기지만 미량은 인체에 해가 없...</td>\n",
       "      <td>http://news.wowtv.co.kr/NewsCenter/News/Read?a...</td>\n",
       "    </tr>\n",
       "  </tbody>\n",
       "</table>\n",
       "</div>"
      ],
      "text/plain": [
       "                                  title      source  \\\n",
       "0  포항서도 '붉은 수돗물'?…\"수돗물 필터 색이 변했다\" 민원 쇄도  조선일보언론사 선정   \n",
       "1   인천 붉은 수돗물 피해주민들 “피해보상 청구서가 서약서냐” 발끈        한국경제   \n",
       "2              인천, 붉은 수돗물에 이어 이번엔 역한 냄새        매일경제   \n",
       "3       ‘인천 붉은 수돗물 사태’ 피해 주민들, 집단 소송 예고         뉴스핌   \n",
       "4   [단독] 인천 '붉은 수돗물' 감지 못한 탁도계, 조작가능 확인  TV조선언론사 선정   \n",
       "5             인천 공촌정수장 탁도계 업체 \"고장 안 났다\"       인천투데이   \n",
       "6           포항도 '붉은 수돗물'…원인 불명 '불안감 확산'         MBC   \n",
       "7                      인천시 붉은물 피해 보상 돌입        인천일보   \n",
       "8                인천시 붉은수돗물 보상안에…등돌린 주민들        매일경제   \n",
       "9               포항 남구서 '붉은 수돗물'…물 비린내까지      한국경제TV   \n",
       "\n",
       "                                            contents  \\\n",
       "0  그러나 포항시 측은 \"인천의 붉은 수돗물 사태와는 다르다\"고 했다. 포항시 관계자는...   \n",
       "1  “더 이상 민·형사상의 소(訴)를 제기하지 않을 것임을 서약하며 신청합니다.” 지난...   \n",
       "2  최근 팔당·풍납 취수장에 조류가 이상 증식하면서 풍납 원수에서는 1ℓ당 최고 46n...   \n",
       "3  이어 “박남춘 인천시장이 5일 붉은 물 사태 종료와 정상화를 선언하고 피해 보상안을...   \n",
       "4  인천에서 '붉은 수돗물'이 나왔을 당시에 탁도검사는 계속 정상으로 나왔습니다. 그래...   \n",
       "5  지난 5월 30일 인천 붉은 물 사태가 시작된 후 환경부는 조사를 벌여 중간 조사 ...   \n",
       "6  ◀ 앵커 ▶ 인천에서 붉은 수돗물 사태가 논란을 빚은 데 이어, 경북 포항시에서도 ...   \n",
       "7  ▲ 인천일보, INCHEONILBO 인천시가 붉은 수돗물 사태와 관련해 주민 피해 ...   \n",
       "8  앞서 인천시는 붉은 수돗물 사태의 발단이 된 공촌수계지역 수돗물 피해 주민과 소상공...   \n",
       "9  또 \"망간은 미네랄 한 종류로 다량 섭취하면 문제가 생기지만 미량은 인체에 해가 없...   \n",
       "\n",
       "                                                link  \n",
       "0  http://news.chosun.com/site/data/html_dir/2019...  \n",
       "1  https://www.hankyung.com/society/article/20190...  \n",
       "2  http://news.mk.co.kr/newsRead.php?year=2019&no...  \n",
       "3    http://www.newspim.com/news/view/20190811000116  \n",
       "4  http://news.tvchosun.com/site/data/html_dir/20...  \n",
       "5  http://www.incheontoday.com/news/articleView.h...  \n",
       "6  http://imnews.imbc.com/replay/2019/nwtoday/art...  \n",
       "7  http://www.incheonilbo.com/news/articleView.ht...  \n",
       "8  http://news.mk.co.kr/newsRead.php?year=2019&no...  \n",
       "9  http://news.wowtv.co.kr/NewsCenter/News/Read?a...  "
      ]
     },
     "execution_count": 238,
     "metadata": {},
     "output_type": "execute_result"
    }
   ],
   "source": [
    "df"
   ]
  },
  {
   "cell_type": "markdown",
   "metadata": {},
   "source": [
    "# 벡터화"
   ]
  },
  {
   "cell_type": "code",
   "execution_count": 239,
   "metadata": {
    "colab": {
     "base_uri": "https://localhost:8080/"
    },
    "id": "NTvVKRyCUYvg",
    "outputId": "a22b06c9-2cf5-4563-f96e-b6eb9a665e0f"
   },
   "outputs": [],
   "source": [
    "tfidfv = TfidfVectorizer().fit(corpus)\n",
    "tfidfv_array = tfidfv.transform(corpus).toarray()"
   ]
  },
  {
   "cell_type": "code",
   "execution_count": 240,
   "metadata": {},
   "outputs": [
    {
     "data": {
      "text/plain": [
       "array([[0.        , 0.        , 0.        , ..., 0.        , 0.        ,\n",
       "        0.        ],\n",
       "       [0.        , 0.        , 0.15662046, ..., 0.        , 0.        ,\n",
       "        0.        ],\n",
       "       [0.        , 0.15599417, 0.        , ..., 0.        , 0.        ,\n",
       "        0.        ],\n",
       "       ...,\n",
       "       [0.        , 0.        , 0.        , ..., 0.        , 0.        ,\n",
       "        0.        ],\n",
       "       [0.        , 0.        , 0.        , ..., 0.        , 0.        ,\n",
       "        0.        ],\n",
       "       [0.        , 0.        , 0.        , ..., 0.        , 0.        ,\n",
       "        0.        ]])"
      ]
     },
     "execution_count": 240,
     "metadata": {},
     "output_type": "execute_result"
    }
   ],
   "source": [
    "tfidfv_array"
   ]
  },
  {
   "cell_type": "markdown",
   "metadata": {},
   "source": [
    "# 유사도"
   ]
  },
  {
   "cell_type": "code",
   "execution_count": 241,
   "metadata": {
    "colab": {
     "base_uri": "https://localhost:8080/",
     "height": 394
    },
    "id": "vLUUILCkYAZg",
    "outputId": "8346b1d5-7233-4618-be38-f3936ee6253e"
   },
   "outputs": [
    {
     "data": {
      "text/html": [
       "<div>\n",
       "<style scoped>\n",
       "    .dataframe tbody tr th:only-of-type {\n",
       "        vertical-align: middle;\n",
       "    }\n",
       "\n",
       "    .dataframe tbody tr th {\n",
       "        vertical-align: top;\n",
       "    }\n",
       "\n",
       "    .dataframe thead th {\n",
       "        text-align: right;\n",
       "    }\n",
       "</style>\n",
       "<table border=\"1\" class=\"dataframe\">\n",
       "  <thead>\n",
       "    <tr style=\"text-align: right;\">\n",
       "      <th></th>\n",
       "      <th>0</th>\n",
       "      <th>1</th>\n",
       "      <th>2</th>\n",
       "      <th>3</th>\n",
       "      <th>4</th>\n",
       "      <th>5</th>\n",
       "      <th>6</th>\n",
       "      <th>7</th>\n",
       "      <th>8</th>\n",
       "      <th>9</th>\n",
       "      <th>10</th>\n",
       "    </tr>\n",
       "  </thead>\n",
       "  <tbody>\n",
       "    <tr>\n",
       "      <th>0</th>\n",
       "      <td>1.000000</td>\n",
       "      <td>0.006263</td>\n",
       "      <td>0.018313</td>\n",
       "      <td>0.005759</td>\n",
       "      <td>0.045474</td>\n",
       "      <td>0.005295</td>\n",
       "      <td>0.075068</td>\n",
       "      <td>0.022026</td>\n",
       "      <td>0.114743</td>\n",
       "      <td>0.073436</td>\n",
       "      <td>0.000000</td>\n",
       "    </tr>\n",
       "    <tr>\n",
       "      <th>1</th>\n",
       "      <td>0.006263</td>\n",
       "      <td>1.000000</td>\n",
       "      <td>0.046683</td>\n",
       "      <td>0.046563</td>\n",
       "      <td>0.041968</td>\n",
       "      <td>0.065199</td>\n",
       "      <td>0.043153</td>\n",
       "      <td>0.023810</td>\n",
       "      <td>0.006584</td>\n",
       "      <td>0.021855</td>\n",
       "      <td>0.068642</td>\n",
       "    </tr>\n",
       "    <tr>\n",
       "      <th>2</th>\n",
       "      <td>0.018313</td>\n",
       "      <td>0.046683</td>\n",
       "      <td>1.000000</td>\n",
       "      <td>0.000000</td>\n",
       "      <td>0.012141</td>\n",
       "      <td>0.021809</td>\n",
       "      <td>0.000000</td>\n",
       "      <td>0.000000</td>\n",
       "      <td>0.019251</td>\n",
       "      <td>0.000000</td>\n",
       "      <td>0.058438</td>\n",
       "    </tr>\n",
       "    <tr>\n",
       "      <th>3</th>\n",
       "      <td>0.005759</td>\n",
       "      <td>0.046563</td>\n",
       "      <td>0.000000</td>\n",
       "      <td>1.000000</td>\n",
       "      <td>0.012362</td>\n",
       "      <td>0.062745</td>\n",
       "      <td>0.052513</td>\n",
       "      <td>0.047294</td>\n",
       "      <td>0.031736</td>\n",
       "      <td>0.000000</td>\n",
       "      <td>0.000000</td>\n",
       "    </tr>\n",
       "    <tr>\n",
       "      <th>4</th>\n",
       "      <td>0.045474</td>\n",
       "      <td>0.041968</td>\n",
       "      <td>0.012141</td>\n",
       "      <td>0.012362</td>\n",
       "      <td>1.000000</td>\n",
       "      <td>0.094027</td>\n",
       "      <td>0.099912</td>\n",
       "      <td>0.029771</td>\n",
       "      <td>0.065507</td>\n",
       "      <td>0.037682</td>\n",
       "      <td>0.000000</td>\n",
       "    </tr>\n",
       "    <tr>\n",
       "      <th>5</th>\n",
       "      <td>0.005295</td>\n",
       "      <td>0.065199</td>\n",
       "      <td>0.021809</td>\n",
       "      <td>0.062745</td>\n",
       "      <td>0.094027</td>\n",
       "      <td>1.000000</td>\n",
       "      <td>0.017369</td>\n",
       "      <td>0.005505</td>\n",
       "      <td>0.005566</td>\n",
       "      <td>0.000000</td>\n",
       "      <td>0.058025</td>\n",
       "    </tr>\n",
       "    <tr>\n",
       "      <th>6</th>\n",
       "      <td>0.075068</td>\n",
       "      <td>0.043153</td>\n",
       "      <td>0.000000</td>\n",
       "      <td>0.052513</td>\n",
       "      <td>0.099912</td>\n",
       "      <td>0.017369</td>\n",
       "      <td>1.000000</td>\n",
       "      <td>0.060395</td>\n",
       "      <td>0.117788</td>\n",
       "      <td>0.040710</td>\n",
       "      <td>0.000000</td>\n",
       "    </tr>\n",
       "    <tr>\n",
       "      <th>7</th>\n",
       "      <td>0.022026</td>\n",
       "      <td>0.023810</td>\n",
       "      <td>0.000000</td>\n",
       "      <td>0.047294</td>\n",
       "      <td>0.029771</td>\n",
       "      <td>0.005505</td>\n",
       "      <td>0.060395</td>\n",
       "      <td>1.000000</td>\n",
       "      <td>0.065080</td>\n",
       "      <td>0.023700</td>\n",
       "      <td>0.000000</td>\n",
       "    </tr>\n",
       "    <tr>\n",
       "      <th>8</th>\n",
       "      <td>0.114743</td>\n",
       "      <td>0.006584</td>\n",
       "      <td>0.019251</td>\n",
       "      <td>0.031736</td>\n",
       "      <td>0.065507</td>\n",
       "      <td>0.005566</td>\n",
       "      <td>0.117788</td>\n",
       "      <td>0.065080</td>\n",
       "      <td>1.000000</td>\n",
       "      <td>0.025139</td>\n",
       "      <td>0.000000</td>\n",
       "    </tr>\n",
       "    <tr>\n",
       "      <th>9</th>\n",
       "      <td>0.073436</td>\n",
       "      <td>0.021855</td>\n",
       "      <td>0.000000</td>\n",
       "      <td>0.000000</td>\n",
       "      <td>0.037682</td>\n",
       "      <td>0.000000</td>\n",
       "      <td>0.040710</td>\n",
       "      <td>0.023700</td>\n",
       "      <td>0.025139</td>\n",
       "      <td>1.000000</td>\n",
       "      <td>0.000000</td>\n",
       "    </tr>\n",
       "    <tr>\n",
       "      <th>10</th>\n",
       "      <td>0.000000</td>\n",
       "      <td>0.068642</td>\n",
       "      <td>0.058438</td>\n",
       "      <td>0.000000</td>\n",
       "      <td>0.000000</td>\n",
       "      <td>0.058025</td>\n",
       "      <td>0.000000</td>\n",
       "      <td>0.000000</td>\n",
       "      <td>0.000000</td>\n",
       "      <td>0.000000</td>\n",
       "      <td>1.000000</td>\n",
       "    </tr>\n",
       "  </tbody>\n",
       "</table>\n",
       "</div>"
      ],
      "text/plain": [
       "          0         1         2         3         4         5         6   \\\n",
       "0   1.000000  0.006263  0.018313  0.005759  0.045474  0.005295  0.075068   \n",
       "1   0.006263  1.000000  0.046683  0.046563  0.041968  0.065199  0.043153   \n",
       "2   0.018313  0.046683  1.000000  0.000000  0.012141  0.021809  0.000000   \n",
       "3   0.005759  0.046563  0.000000  1.000000  0.012362  0.062745  0.052513   \n",
       "4   0.045474  0.041968  0.012141  0.012362  1.000000  0.094027  0.099912   \n",
       "5   0.005295  0.065199  0.021809  0.062745  0.094027  1.000000  0.017369   \n",
       "6   0.075068  0.043153  0.000000  0.052513  0.099912  0.017369  1.000000   \n",
       "7   0.022026  0.023810  0.000000  0.047294  0.029771  0.005505  0.060395   \n",
       "8   0.114743  0.006584  0.019251  0.031736  0.065507  0.005566  0.117788   \n",
       "9   0.073436  0.021855  0.000000  0.000000  0.037682  0.000000  0.040710   \n",
       "10  0.000000  0.068642  0.058438  0.000000  0.000000  0.058025  0.000000   \n",
       "\n",
       "          7         8         9         10  \n",
       "0   0.022026  0.114743  0.073436  0.000000  \n",
       "1   0.023810  0.006584  0.021855  0.068642  \n",
       "2   0.000000  0.019251  0.000000  0.058438  \n",
       "3   0.047294  0.031736  0.000000  0.000000  \n",
       "4   0.029771  0.065507  0.037682  0.000000  \n",
       "5   0.005505  0.005566  0.000000  0.058025  \n",
       "6   0.060395  0.117788  0.040710  0.000000  \n",
       "7   1.000000  0.065080  0.023700  0.000000  \n",
       "8   0.065080  1.000000  0.025139  0.000000  \n",
       "9   0.023700  0.025139  1.000000  0.000000  \n",
       "10  0.000000  0.000000  0.000000  1.000000  "
      ]
     },
     "execution_count": 241,
     "metadata": {},
     "output_type": "execute_result"
    }
   ],
   "source": [
    "cos_sim_df = pd.DataFrame(cosine_similarity(tfidfv_array, tfidfv_array)) \n",
    "cos_sim_df"
   ]
  },
  {
   "cell_type": "code",
   "execution_count": 242,
   "metadata": {
    "id": "PVOB2V_XdbbK"
   },
   "outputs": [
    {
     "data": {
      "text/plain": [
       "10"
      ]
     },
     "execution_count": 242,
     "metadata": {},
     "output_type": "execute_result"
    }
   ],
   "source": [
    "len_contents = len(cos_sim_df)-1\n",
    "len_contents"
   ]
  },
  {
   "cell_type": "code",
   "execution_count": 243,
   "metadata": {
    "colab": {
     "base_uri": "https://localhost:8080/"
    },
    "id": "NOR13wJLZoVy",
    "outputId": "3eebebd7-ae87-4b64-bd71-6734d8bb5a20"
   },
   "outputs": [
    {
     "data": {
      "text/plain": [
       "10    1.000000\n",
       "1     0.068642\n",
       "2     0.058438\n",
       "5     0.058025\n",
       "0     0.000000\n",
       "3     0.000000\n",
       "4     0.000000\n",
       "6     0.000000\n",
       "7     0.000000\n",
       "8     0.000000\n",
       "9     0.000000\n",
       "Name: 10, dtype: float64"
      ]
     },
     "execution_count": 243,
     "metadata": {},
     "output_type": "execute_result"
    }
   ],
   "source": [
    "cos_sim_df_sorted = cos_sim_df.iloc[len_contents].sort_values(ascending=False)\n",
    "cos_sim_df_sorted"
   ]
  },
  {
   "cell_type": "code",
   "execution_count": 244,
   "metadata": {
    "colab": {
     "base_uri": "https://localhost:8080/"
    },
    "id": "hIWwe6Jnbb_Z",
    "outputId": "d582346b-7482-4d64-b4e4-b5a951ff0794"
   },
   "outputs": [
    {
     "name": "stdout",
     "output_type": "stream",
     "text": [
      "1.8510460130595676\n"
     ]
    }
   ],
   "source": [
    "cos_sim_df_sorted_others = cos_sim_df_sorted[1:]\n",
    "cos_sim_df_sorted_others\n",
    "\n",
    "cos_sim_df_sorted_others_sum = cos_sim_df_sorted_others.sum()/10 * 100 # percent 지표\n",
    "print(cos_sim_df_sorted_others_sum)"
   ]
  },
  {
   "cell_type": "code",
   "execution_count": 245,
   "metadata": {
    "scrolled": true
   },
   "outputs": [
    {
     "data": {
      "text/plain": [
       "[0.8105423965852111,\n",
       " 0.0,\n",
       " 2.8757996002692487,\n",
       " 2.7084720834747467,\n",
       " 3.0556485967598164,\n",
       " 2.766719825676044,\n",
       " 3.406954651689611,\n",
       " 1.4558573116619766,\n",
       " 2.2962390958521595,\n",
       " 1.8510460130595676]"
      ]
     },
     "execution_count": 245,
     "metadata": {},
     "output_type": "execute_result"
    }
   ],
   "source": [
    "cos.append(cos_sim_df_sorted_others_sum)\n",
    "cos"
   ]
  },
  {
   "cell_type": "code",
   "execution_count": 251,
   "metadata": {},
   "outputs": [
    {
     "data": {
      "text/html": [
       "<div>\n",
       "<style scoped>\n",
       "    .dataframe tbody tr th:only-of-type {\n",
       "        vertical-align: middle;\n",
       "    }\n",
       "\n",
       "    .dataframe tbody tr th {\n",
       "        vertical-align: top;\n",
       "    }\n",
       "\n",
       "    .dataframe thead th {\n",
       "        text-align: right;\n",
       "    }\n",
       "</style>\n",
       "<table border=\"1\" class=\"dataframe\">\n",
       "  <thead>\n",
       "    <tr style=\"text-align: right;\">\n",
       "      <th></th>\n",
       "      <th>0</th>\n",
       "    </tr>\n",
       "  </thead>\n",
       "  <tbody>\n",
       "    <tr>\n",
       "      <th>0</th>\n",
       "      <td>0.810542</td>\n",
       "    </tr>\n",
       "    <tr>\n",
       "      <th>1</th>\n",
       "      <td>0.000000</td>\n",
       "    </tr>\n",
       "    <tr>\n",
       "      <th>2</th>\n",
       "      <td>2.875800</td>\n",
       "    </tr>\n",
       "    <tr>\n",
       "      <th>3</th>\n",
       "      <td>2.708472</td>\n",
       "    </tr>\n",
       "    <tr>\n",
       "      <th>4</th>\n",
       "      <td>3.055649</td>\n",
       "    </tr>\n",
       "    <tr>\n",
       "      <th>5</th>\n",
       "      <td>2.766720</td>\n",
       "    </tr>\n",
       "    <tr>\n",
       "      <th>6</th>\n",
       "      <td>3.406955</td>\n",
       "    </tr>\n",
       "    <tr>\n",
       "      <th>7</th>\n",
       "      <td>1.455857</td>\n",
       "    </tr>\n",
       "    <tr>\n",
       "      <th>8</th>\n",
       "      <td>2.296239</td>\n",
       "    </tr>\n",
       "    <tr>\n",
       "      <th>9</th>\n",
       "      <td>1.851046</td>\n",
       "    </tr>\n",
       "  </tbody>\n",
       "</table>\n",
       "</div>"
      ],
      "text/plain": [
       "          0\n",
       "0  0.810542\n",
       "1  0.000000\n",
       "2  2.875800\n",
       "3  2.708472\n",
       "4  3.055649\n",
       "5  2.766720\n",
       "6  3.406955\n",
       "7  1.455857\n",
       "8  2.296239\n",
       "9  1.851046"
      ]
     },
     "execution_count": 251,
     "metadata": {},
     "output_type": "execute_result"
    }
   ],
   "source": [
    "cos_df = pd.DataFrame(cos)\n",
    "cos_df"
   ]
  },
  {
   "cell_type": "markdown",
   "metadata": {},
   "source": [
    "# 시각화"
   ]
  },
  {
   "cell_type": "code",
   "execution_count": 246,
   "metadata": {},
   "outputs": [],
   "source": [
    "plt.rc(\"font\", family=\"Malgun Gothic\") # window"
   ]
  },
  {
   "cell_type": "code",
   "execution_count": 253,
   "metadata": {},
   "outputs": [
    {
     "data": {
      "text/plain": [
       "Text(0.5, 1.0, '네이버 코사인 유사도(%)')"
      ]
     },
     "execution_count": 253,
     "metadata": {},
     "output_type": "execute_result"
    },
    {
     "data": {
      "image/png": "[encoded data removed]",
      "text/plain": [
       "<Figure size 432x288 with 1 Axes>"
      ]
     },
     "metadata": {
      "needs_background": "light"
     },
     "output_type": "display_data"
    }
   ],
   "source": [
    "df1=pd.DataFrame({'day':('19.05.10','19.05.20','19.05.30','19.06.09','19.06.19','19.06.29', '19.07.09', '19.07.19', '19.07.29', '19.08.08'),'결과':cos})\n",
    "p = sns.barplot(data = df1, x ='day',y='결과')\n",
    "p.set_xticklabels(p.get_xticklabels(), rotation=45, horizontalalignment='right')\n",
    "p.set_title(\"네이버 코사인 유사도(%)\")"
   ]
  },
  {
   "cell_type": "code",
   "execution_count": 103,
   "metadata": {},
   "outputs": [
    {
     "data": {
      "text/plain": [
       "'인천 붉은물'"
      ]
     },
     "execution_count": 103,
     "metadata": {},
     "output_type": "execute_result"
    }
   ],
   "source": [
    "list_search = ' '.join(list_region) + ' ' + ' '.join(list_keyword)\n",
    "list_search"
   ]
  }
 ],
 "metadata": {
  "colab": {
   "collapsed_sections": [],
   "name": "py-cr-naver-v4-tfidfscore-v2-rank-fin",
   "provenance": []
  },
  "kernelspec": {
   "display_name": "Python 3 (ipykernel)",
   "language": "python",
   "name": "python3"
  },
  "language_info": {
   "codemirror_mode": {
    "name": "ipython",
    "version": 3
   },
   "file_extension": ".py",
   "mimetype": "text/x-python",
   "name": "python",
   "nbconvert_exporter": "python",
   "pygments_lexer": "ipython3",
   "version": "3.9.7"
  },
  "toc": {
   "base_numbering": 1,
   "nav_menu": {},
   "number_sections": true,
   "sideBar": true,
   "skip_h1_title": false,
   "title_cell": "Table of Contents",
   "title_sidebar": "Contents",
   "toc_cell": false,
   "toc_position": {},
   "toc_section_display": true,
   "toc_window_display": true
  }
 },
 "nbformat": 4,
 "nbformat_minor": 1
}
